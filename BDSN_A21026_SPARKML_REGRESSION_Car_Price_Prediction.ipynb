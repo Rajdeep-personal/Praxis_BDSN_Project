{
  "nbformat": 4,
  "nbformat_minor": 0,
  "metadata": {
    "colab": {
      "name": "BDSN_A21026_SPARKML_REGRESSION_Car_Price_Prediction",
      "provenance": [],
      "collapsed_sections": []
    },
    "kernelspec": {
      "name": "python3",
      "display_name": "Python 3"
    }
  },
  "cells": [
    {
      "cell_type": "markdown",
      "metadata": {
        "id": "pKSccZgVu7J8"
      },
      "source": [
        "![CC-BY-SA](https://licensebuttons.net/l/by-sa/3.0/88x31.png)<br>\n",
        "<hr>\n",
        "\n",
        "![alt text](http://1.bp.blogspot.com/-nqAGzznZQNo/UwS8rxjfXeI/AAAAAAAABTA/nunmRLowpps/s1600/PraxisLogo.gif)<br>\n",
        "[Data Science Program](http://praxis.ac.in/Programs/business-analytics/)\n",
        "\n",
        "<hr>\n",
        "\n",
        "[Prithwis Mukerjee](http://www.yantrajaal.com)<br>"
      ]
    },
    {
      "cell_type": "markdown",
      "metadata": {
        "id": "bR-6MzHBr88H"
      },
      "source": [
        "\n",
        "\n",
        "```\n",
        "`# This is formatted as code`\n",
        "```\n",
        "\n",
        "# BDS Car Price Precdiction - Machine Learning <br>\n",
        "https://www.datacamp.com/community/tutorials/apache-spark-tutorial-machine-learning"
      ]
    },
    {
      "cell_type": "markdown",
      "metadata": {
        "id": "yqGXJ8DIxzWN"
      },
      "source": [
        "# Initialise"
      ]
    },
    {
      "cell_type": "code",
      "metadata": {
        "id": "KOr826zIx3Kh",
        "colab": {
          "base_uri": "https://localhost:8080/"
        },
        "outputId": "5a75a8a9-3d7f-4f59-f709-c8046d401780"
      },
      "source": [
        "!apt-get update > /dev/null\n",
        "!apt-get install openjdk-8-jdk-headless -qq > /dev/null\n",
        "#!wget -q http://apache.osuosl.org/spark/spark-2.2.2/spark-2.2.2-bin-hadoop2.7.tgz\n",
        "#!wget -q http://apache.osuosl.org/spark/spark-2.4.0/spark-2.4.0-bin-hadoop2.7.tgz\n",
        "#wget -q http://apache.osuosl.org/spark/spark-2.4.5/spark-2.4.5-bin-hadoop2.7.tgz\n",
        "#!wget -q http://apache.osuosl.org/spark/spark-2.4.6/spark-2.4.6-bin-hadoop2.7.tgz\n",
        "#!wget -q http://apache.osuosl.org/spark/spark-3.0.1/spark-3.0.1-bin-hadoop3.2.tgz\n",
        "!wget -q http://apache.osuosl.org/spark/spark-3.1.2/spark-3.1.2-bin-hadoop3.2.tgz\n",
        "#\n",
        "# if the current version of Spark is not used, there may be errors\n",
        "# check here for current versions http://apache.osuosl.org/spark\n",
        "#\n",
        "#!tar xf spark-2.4.0-bin-hadoop2.7.tgz\n",
        "#!tar xf spark-2.4.5-bin-hadoop2.7.tgz\n",
        "#!tar xf spark-2.4.6-bin-hadoop2.7.tgz\n",
        "#!tar xf spark-3.0.1-bin-hadoop3.2.tgz\n",
        "!tar xf spark-3.1.2-bin-hadoop3.2.tgz\n",
        "#!pip install -q findspark\n",
        "!pip install -q pyspark"
      ],
      "execution_count": 3,
      "outputs": [
        {
          "output_type": "stream",
          "name": "stdout",
          "text": [
            "\u001b[K     |████████████████████████████████| 281.4 MB 37 kB/s \n",
            "\u001b[K     |████████████████████████████████| 198 kB 52.1 MB/s \n",
            "\u001b[?25h  Building wheel for pyspark (setup.py) ... \u001b[?25l\u001b[?25hdone\n"
          ]
        }
      ]
    },
    {
      "cell_type": "code",
      "metadata": {
        "id": "0K_l58UKyQ65"
      },
      "source": [
        "import os\n",
        "os.environ[\"JAVA_HOME\"] = \"/usr/lib/jvm/java-8-openjdk-amd64\"\n",
        "#os.environ[\"SPARK_HOME\"] = \"/content/spark-2.4.0-bin-hadoop2.7\"\n",
        "#os.environ[\"SPARK_HOME\"] = \"/content/spark-2.4.5-bin-hadoop2.7\"\n",
        "#os.environ[\"SPARK_HOME\"] = \"/content/spark-2.4.6-bin-hadoop2.7\"\n",
        "#os.environ[\"SPARK_HOME\"] = \"/content/spark-3.0.1-bin-hadoop3.2\"\n",
        "os.environ[\"SPARK_HOME\"] = \"/content/spark-3.1.2-bin-hadoop3.2\""
      ],
      "execution_count": 4,
      "outputs": []
    },
    {
      "cell_type": "code",
      "metadata": {
        "id": "f3hdu86YyVEW",
        "colab": {
          "base_uri": "https://localhost:8080/",
          "height": 196
        },
        "outputId": "7416392d-ee5f-4721-ae46-ae7eaddd70ba"
      },
      "source": [
        "#import findspark\n",
        "#findspark.init()\n",
        "from pyspark.sql import SparkSession\n",
        "spark = SparkSession.builder.master(\"local[*]\").getOrCreate()\n",
        "sc = spark.sparkContext\n",
        "sc"
      ],
      "execution_count": 5,
      "outputs": [
        {
          "output_type": "execute_result",
          "data": {
            "text/html": [
              "\n",
              "        <div>\n",
              "            <p><b>SparkContext</b></p>\n",
              "\n",
              "            <p><a href=\"http://3e34630990ad:4040\">Spark UI</a></p>\n",
              "\n",
              "            <dl>\n",
              "              <dt>Version</dt>\n",
              "                <dd><code>v3.1.2</code></dd>\n",
              "              <dt>Master</dt>\n",
              "                <dd><code>local[*]</code></dd>\n",
              "              <dt>AppName</dt>\n",
              "                <dd><code>pyspark-shell</code></dd>\n",
              "            </dl>\n",
              "        </div>\n",
              "        "
            ],
            "text/plain": [
              "<SparkContext master=local[*] appName=pyspark-shell>"
            ]
          },
          "metadata": {},
          "execution_count": 5
        }
      ]
    },
    {
      "cell_type": "code",
      "source": [
        "car_data = sc.textFile('/content/Dataset/CAR_DETAILS_FROM_CAR_DEKHO.txt').flatMap(lambda l:l.split(\",\"))"
      ],
      "metadata": {
        "id": "3suHoYehv1Z8"
      },
      "execution_count": 6,
      "outputs": []
    },
    {
      "cell_type": "code",
      "metadata": {
        "id": "21CBOxSbys8T",
        "colab": {
          "base_uri": "https://localhost:8080/"
        },
        "outputId": "cb41c7a1-edae-44de-fdd4-00adb332be3d"
      },
      "source": [
        "car_data.collect()"
      ],
      "execution_count": 7,
      "outputs": [
        {
          "output_type": "execute_result",
          "data": {
            "text/plain": [
              "['name',\n",
              " 'year',\n",
              " 'selling_price',\n",
              " 'km_driven',\n",
              " 'fuel',\n",
              " 'seller_type',\n",
              " 'transmission',\n",
              " 'owner',\n",
              " 'Maruti 800 AC',\n",
              " '2007',\n",
              " '60000',\n",
              " '70000',\n",
              " 'Petrol',\n",
              " 'Individual',\n",
              " 'Manual',\n",
              " 'First Owner',\n",
              " 'Maruti Wagon R LXI Minor',\n",
              " '2007',\n",
              " '135000',\n",
              " '50000',\n",
              " 'Petrol',\n",
              " 'Individual',\n",
              " 'Manual',\n",
              " 'First Owner',\n",
              " 'Hyundai Verna 1.6 SX',\n",
              " '2012',\n",
              " '600000',\n",
              " '100000',\n",
              " 'Diesel',\n",
              " 'Individual',\n",
              " 'Manual',\n",
              " 'First Owner',\n",
              " 'Datsun RediGO T Option',\n",
              " '2017',\n",
              " '250000',\n",
              " '46000',\n",
              " 'Petrol',\n",
              " 'Individual',\n",
              " 'Manual',\n",
              " 'First Owner',\n",
              " 'Honda Amaze VX i-DTEC',\n",
              " '2014',\n",
              " '450000',\n",
              " '141000',\n",
              " 'Diesel',\n",
              " 'Individual',\n",
              " 'Manual',\n",
              " 'Second Owner',\n",
              " 'Maruti Alto LX BSIII',\n",
              " '2007',\n",
              " '140000',\n",
              " '125000',\n",
              " 'Petrol',\n",
              " 'Individual',\n",
              " 'Manual',\n",
              " 'First Owner',\n",
              " 'Hyundai Xcent 1.2 Kappa S',\n",
              " '2016',\n",
              " '550000',\n",
              " '25000',\n",
              " 'Petrol',\n",
              " 'Individual',\n",
              " 'Manual',\n",
              " 'First Owner',\n",
              " 'Tata Indigo Grand Petrol',\n",
              " '2014',\n",
              " '240000',\n",
              " '60000',\n",
              " 'Petrol',\n",
              " 'Individual',\n",
              " 'Manual',\n",
              " 'Second Owner',\n",
              " 'Hyundai Creta 1.6 VTVT S',\n",
              " '2015',\n",
              " '850000',\n",
              " '25000',\n",
              " 'Petrol',\n",
              " 'Individual',\n",
              " 'Manual',\n",
              " 'First Owner',\n",
              " 'Maruti Celerio Green VXI',\n",
              " '2017',\n",
              " '365000',\n",
              " '78000',\n",
              " 'CNG',\n",
              " 'Individual',\n",
              " 'Manual',\n",
              " 'First Owner',\n",
              " 'Chevrolet Sail 1.2 Base',\n",
              " '2015',\n",
              " '260000',\n",
              " '35000',\n",
              " 'Petrol',\n",
              " 'Individual',\n",
              " 'Manual',\n",
              " 'First Owner',\n",
              " 'Tata Indigo Grand Petrol',\n",
              " '2014',\n",
              " '250000',\n",
              " '100000',\n",
              " 'Petrol',\n",
              " 'Individual',\n",
              " 'Manual',\n",
              " 'First Owner',\n",
              " 'Toyota Corolla Altis 1.8 VL CVT',\n",
              " '2018',\n",
              " '1650000',\n",
              " '25000',\n",
              " 'Petrol',\n",
              " 'Dealer',\n",
              " 'Automatic',\n",
              " 'First Owner',\n",
              " 'Maruti 800 AC',\n",
              " '2007',\n",
              " '60000',\n",
              " '70000',\n",
              " 'Petrol',\n",
              " 'Individual',\n",
              " 'Manual',\n",
              " 'First Owner',\n",
              " 'Maruti Wagon R LXI Minor',\n",
              " '2007',\n",
              " '135000',\n",
              " '50000',\n",
              " 'Petrol',\n",
              " 'Individual',\n",
              " 'Manual',\n",
              " 'First Owner',\n",
              " 'Hyundai Verna 1.6 SX',\n",
              " '2012',\n",
              " '600000',\n",
              " '100000',\n",
              " 'Diesel',\n",
              " 'Individual',\n",
              " 'Manual',\n",
              " 'First Owner',\n",
              " 'Datsun RediGO T Option',\n",
              " '2017',\n",
              " '250000',\n",
              " '46000',\n",
              " 'Petrol',\n",
              " 'Individual',\n",
              " 'Manual',\n",
              " 'First Owner',\n",
              " 'Honda Amaze VX i-DTEC',\n",
              " '2014',\n",
              " '450000',\n",
              " '141000',\n",
              " 'Diesel',\n",
              " 'Individual',\n",
              " 'Manual',\n",
              " 'Second Owner',\n",
              " 'Maruti Alto LX BSIII',\n",
              " '2007',\n",
              " '140000',\n",
              " '125000',\n",
              " 'Petrol',\n",
              " 'Individual',\n",
              " 'Manual',\n",
              " 'First Owner',\n",
              " 'Hyundai Xcent 1.2 Kappa S',\n",
              " '2016',\n",
              " '550000',\n",
              " '25000',\n",
              " 'Petrol',\n",
              " 'Individual',\n",
              " 'Manual',\n",
              " 'First Owner',\n",
              " 'Tata Indigo Grand Petrol',\n",
              " '2014',\n",
              " '240000',\n",
              " '60000',\n",
              " 'Petrol',\n",
              " 'Individual',\n",
              " 'Manual',\n",
              " 'Second Owner',\n",
              " 'Hyundai Creta 1.6 VTVT S',\n",
              " '2015',\n",
              " '850000',\n",
              " '25000',\n",
              " 'Petrol',\n",
              " 'Individual',\n",
              " 'Manual',\n",
              " 'First Owner',\n",
              " 'Maruti Celerio Green VXI',\n",
              " '2017',\n",
              " '365000',\n",
              " '78000',\n",
              " 'CNG',\n",
              " 'Individual',\n",
              " 'Manual',\n",
              " 'First Owner',\n",
              " 'Chevrolet Sail 1.2 Base',\n",
              " '2015',\n",
              " '260000',\n",
              " '35000',\n",
              " 'Petrol',\n",
              " 'Individual',\n",
              " 'Manual',\n",
              " 'First Owner',\n",
              " 'Tata Indigo Grand Petrol',\n",
              " '2014',\n",
              " '250000',\n",
              " '100000',\n",
              " 'Petrol',\n",
              " 'Individual',\n",
              " 'Manual',\n",
              " 'First Owner',\n",
              " 'Toyota Corolla Altis 1.8 VL CVT',\n",
              " '2018',\n",
              " '1650000',\n",
              " '25000',\n",
              " 'Petrol',\n",
              " 'Dealer',\n",
              " 'Automatic',\n",
              " 'First Owner',\n",
              " 'Maruti Ciaz VXi Plus',\n",
              " '2015',\n",
              " '585000',\n",
              " '24000',\n",
              " 'Petrol',\n",
              " 'Dealer',\n",
              " 'Manual',\n",
              " 'First Owner',\n",
              " 'Hyundai Venue SX Opt Diesel',\n",
              " '2019',\n",
              " '1195000',\n",
              " '5000',\n",
              " 'Diesel',\n",
              " 'Dealer',\n",
              " 'Manual',\n",
              " 'First Owner',\n",
              " 'Chevrolet Enjoy TCDi LTZ 7 Seater',\n",
              " '2013',\n",
              " '390000',\n",
              " '33000',\n",
              " 'Diesel',\n",
              " 'Individual',\n",
              " 'Manual',\n",
              " 'Second Owner',\n",
              " 'Jaguar XF 2.2 Litre Luxury',\n",
              " '2014',\n",
              " '1964999',\n",
              " '28000',\n",
              " 'Diesel',\n",
              " 'Dealer',\n",
              " 'Automatic',\n",
              " 'First Owner',\n",
              " 'Mercedes-Benz New C-Class 220 CDI AT',\n",
              " '2013',\n",
              " '1425000',\n",
              " '59000',\n",
              " 'Diesel',\n",
              " 'Dealer',\n",
              " 'Automatic',\n",
              " 'First Owner',\n",
              " 'Maruti Vitara Brezza ZDi Plus AMT',\n",
              " '2018',\n",
              " '975000',\n",
              " '4500',\n",
              " 'Diesel',\n",
              " 'Dealer',\n",
              " 'Automatic',\n",
              " 'First Owner',\n",
              " 'Audi Q5 2.0 TDI',\n",
              " '2011',\n",
              " '1190000',\n",
              " '175900',\n",
              " 'Diesel',\n",
              " 'Dealer',\n",
              " 'Automatic',\n",
              " 'First Owner',\n",
              " 'Honda City V MT',\n",
              " '2018',\n",
              " '930000',\n",
              " '14500',\n",
              " 'Petrol',\n",
              " 'Dealer',\n",
              " 'Manual',\n",
              " 'First Owner',\n",
              " 'Tata Tigor 1.2 Revotron XT',\n",
              " '2018',\n",
              " '525000',\n",
              " '15000',\n",
              " 'Petrol',\n",
              " 'Individual',\n",
              " 'Manual',\n",
              " 'First Owner',\n",
              " 'Audi A6 2.0 TDI  Design Edition',\n",
              " '2013',\n",
              " '1735000',\n",
              " '50000',\n",
              " 'Diesel',\n",
              " 'Dealer',\n",
              " 'Automatic',\n",
              " 'First Owner',\n",
              " 'Mercedes-Benz New C-Class C 220 CDI Avantgarde',\n",
              " '2012',\n",
              " '1375000',\n",
              " '33800',\n",
              " 'Diesel',\n",
              " 'Dealer',\n",
              " 'Automatic',\n",
              " 'Second Owner',\n",
              " 'Skoda Superb Ambition 2.0 TDI CR AT',\n",
              " '2011',\n",
              " '450000',\n",
              " '130400',\n",
              " 'Diesel',\n",
              " 'Dealer',\n",
              " 'Automatic',\n",
              " 'Second Owner',\n",
              " 'Toyota Corolla Altis G AT',\n",
              " '2016',\n",
              " '900000',\n",
              " '50000',\n",
              " 'Petrol',\n",
              " 'Individual',\n",
              " 'Automatic',\n",
              " 'First Owner',\n",
              " 'Toyota Innova 2.5 G (Diesel) 7 Seater',\n",
              " '2015',\n",
              " '1300000',\n",
              " '80000',\n",
              " 'Diesel',\n",
              " 'Individual',\n",
              " 'Manual',\n",
              " 'First Owner',\n",
              " 'Jeep Compass 1.4 Sport Plus BSIV',\n",
              " '2019',\n",
              " '1400000',\n",
              " '10000',\n",
              " 'Petrol',\n",
              " 'Individual',\n",
              " 'Manual',\n",
              " 'First Owner',\n",
              " 'Mercedes-Benz E-Class E 200 CGI Elegance',\n",
              " '2010',\n",
              " '850000',\n",
              " '119000',\n",
              " 'Petrol',\n",
              " 'Dealer',\n",
              " 'Automatic',\n",
              " 'First Owner',\n",
              " 'Hyundai i10 Magna 1.1L',\n",
              " '2014',\n",
              " '229999',\n",
              " '60000',\n",
              " 'Petrol',\n",
              " 'Individual',\n",
              " 'Manual',\n",
              " 'Fourth & Above Owner',\n",
              " 'BMW 3 Series 320d Sport Line',\n",
              " '2013',\n",
              " '1550000',\n",
              " '75800',\n",
              " 'Diesel',\n",
              " 'Dealer',\n",
              " 'Automatic',\n",
              " 'Second Owner',\n",
              " 'Audi Q7 35 TDI Quattro Premium',\n",
              " '2009',\n",
              " '1250000',\n",
              " '78000',\n",
              " 'Diesel',\n",
              " 'Dealer',\n",
              " 'Automatic',\n",
              " 'Third Owner',\n",
              " 'Hyundai Elantra CRDi S',\n",
              " '2012',\n",
              " '625000',\n",
              " '40000',\n",
              " 'Diesel',\n",
              " 'Individual',\n",
              " 'Manual',\n",
              " 'First Owner',\n",
              " 'Mahindra Scorpio 1.99 S10',\n",
              " '2014',\n",
              " '1050000',\n",
              " '50000',\n",
              " 'Diesel',\n",
              " 'Individual',\n",
              " 'Manual',\n",
              " 'First Owner',\n",
              " 'Honda City i DTEC V',\n",
              " '2014',\n",
              " '560000',\n",
              " '74000',\n",
              " 'Diesel',\n",
              " 'Individual',\n",
              " 'Manual',\n",
              " 'Second Owner',\n",
              " 'Maruti Wagon R VXI BS IV with ABS',\n",
              " '2014',\n",
              " '290000',\n",
              " '64000',\n",
              " 'Petrol',\n",
              " 'Individual',\n",
              " 'Manual',\n",
              " 'Second Owner',\n",
              " 'Maruti Wagon R VXI BS IV',\n",
              " '2012',\n",
              " '275000',\n",
              " '60000',\n",
              " 'Petrol',\n",
              " 'Individual',\n",
              " 'Manual',\n",
              " 'Second Owner',\n",
              " 'Mahindra Scorpio LX',\n",
              " '2009',\n",
              " '411000',\n",
              " '120000',\n",
              " 'Diesel',\n",
              " 'Individual',\n",
              " 'Manual',\n",
              " 'Second Owner',\n",
              " 'Hyundai Santro Xing GLS',\n",
              " '2009',\n",
              " '150000',\n",
              " '79000',\n",
              " 'Petrol',\n",
              " 'Individual',\n",
              " 'Manual',\n",
              " 'Third Owner',\n",
              " 'Hyundai Grand i10 1.2 Kappa Asta',\n",
              " '2019',\n",
              " '500000',\n",
              " '15000',\n",
              " 'Petrol',\n",
              " 'Individual',\n",
              " 'Manual',\n",
              " 'First Owner',\n",
              " 'Maruti Alto LXi',\n",
              " '2006',\n",
              " '100000',\n",
              " '80000',\n",
              " 'Petrol',\n",
              " 'Individual',\n",
              " 'Manual',\n",
              " 'First Owner',\n",
              " 'Maruti Swift Dzire VDI Optional',\n",
              " '2017',\n",
              " '725000',\n",
              " '18500',\n",
              " 'Diesel',\n",
              " 'Dealer',\n",
              " 'Manual',\n",
              " 'First Owner',\n",
              " 'Maruti Eeco 5 Seater AC BSIV',\n",
              " '2018',\n",
              " '401000',\n",
              " '10200',\n",
              " 'Petrol',\n",
              " 'Dealer',\n",
              " 'Manual',\n",
              " 'First Owner',\n",
              " 'Hyundai i20 Sportz 1.4 CRDi',\n",
              " '2018',\n",
              " '750000',\n",
              " '29000',\n",
              " 'Diesel',\n",
              " 'Dealer',\n",
              " 'Manual',\n",
              " 'First Owner',\n",
              " 'Maruti Omni Maruti Omni MPI STD BSIII 5-STR W/ IMMOBILISER',\n",
              " '2018',\n",
              " '310000',\n",
              " '28000',\n",
              " 'Petrol',\n",
              " 'Dealer',\n",
              " 'Manual',\n",
              " 'First Owner',\n",
              " 'Maruti Swift ZDi BSIV',\n",
              " '2016',\n",
              " '665000',\n",
              " '46000',\n",
              " 'Diesel',\n",
              " 'Dealer',\n",
              " 'Manual',\n",
              " 'First Owner',\n",
              " 'Hyundai i20 2015-2017 Sportz Option 1.4 CRDi',\n",
              " '2014',\n",
              " '465000',\n",
              " '70000',\n",
              " 'Diesel',\n",
              " 'Dealer',\n",
              " 'Manual',\n",
              " 'First Owner',\n",
              " 'Maruti Alto LXi',\n",
              " '2012',\n",
              " '160000',\n",
              " '60000',\n",
              " 'Petrol',\n",
              " 'Individual',\n",
              " 'Manual',\n",
              " 'Second Owner',\n",
              " 'Mahindra Jeep CL 500 MDI',\n",
              " '1996',\n",
              " '250000',\n",
              " '35000',\n",
              " 'Diesel',\n",
              " 'Individual',\n",
              " 'Manual',\n",
              " 'Second Owner',\n",
              " 'Honda City i DTEC VX',\n",
              " '2014',\n",
              " '675000',\n",
              " '90000',\n",
              " 'Diesel',\n",
              " 'Dealer',\n",
              " 'Manual',\n",
              " 'First Owner',\n",
              " 'Maruti Wagon R VXI BS IV',\n",
              " '2013',\n",
              " '300000',\n",
              " '80000',\n",
              " 'Petrol',\n",
              " 'Dealer',\n",
              " 'Manual',\n",
              " 'First Owner',\n",
              " 'Tata Indica DLS',\n",
              " '2005',\n",
              " '70000',\n",
              " '80000',\n",
              " 'Diesel',\n",
              " 'Individual',\n",
              " 'Manual',\n",
              " 'First Owner',\n",
              " 'Hyundai EON Magna Plus',\n",
              " '2014',\n",
              " '240000',\n",
              " '73300',\n",
              " 'Petrol',\n",
              " 'Dealer',\n",
              " 'Manual',\n",
              " 'Second Owner',\n",
              " 'Toyota Etios GD',\n",
              " '2014',\n",
              " '525000',\n",
              " '92000',\n",
              " 'Diesel',\n",
              " 'Dealer',\n",
              " 'Manual',\n",
              " 'First Owner',\n",
              " 'Maruti Alto LXi',\n",
              " '2009',\n",
              " '151000',\n",
              " '66764',\n",
              " 'Petrol',\n",
              " 'Dealer',\n",
              " 'Manual',\n",
              " 'Second Owner',\n",
              " 'Maruti Alto LXi',\n",
              " '2009',\n",
              " '140000',\n",
              " '100000',\n",
              " 'Petrol',\n",
              " 'Individual',\n",
              " 'Manual',\n",
              " 'First Owner',\n",
              " 'Chevrolet Tavera Neo LS B3 - 7(C) seats BSIII',\n",
              " '2010',\n",
              " '280000',\n",
              " '350000',\n",
              " 'Diesel',\n",
              " 'Individual',\n",
              " 'Manual',\n",
              " 'Second Owner',\n",
              " 'Toyota Corolla Altis Diesel D4DG',\n",
              " '2011',\n",
              " '350000',\n",
              " '230000',\n",
              " 'Diesel',\n",
              " 'Individual',\n",
              " 'Manual',\n",
              " 'First Owner',\n",
              " 'Mahindra Scorpio 1.99 S6 Plus',\n",
              " '2017',\n",
              " '570000',\n",
              " '60000',\n",
              " 'Diesel',\n",
              " 'Individual',\n",
              " 'Manual',\n",
              " 'First Owner',\n",
              " 'Hyundai EON Magna Plus',\n",
              " '2018',\n",
              " '300000',\n",
              " '31000',\n",
              " 'Petrol',\n",
              " 'Individual',\n",
              " 'Manual',\n",
              " 'First Owner',\n",
              " 'Tata Indigo Classic Dicor',\n",
              " '2007',\n",
              " '100000',\n",
              " '39000',\n",
              " 'Diesel',\n",
              " 'Individual',\n",
              " 'Manual',\n",
              " 'First Owner',\n",
              " 'Toyota Innova 2.5 V Diesel 8-seater',\n",
              " '2009',\n",
              " '500000',\n",
              " '120000',\n",
              " 'Diesel',\n",
              " 'Individual',\n",
              " 'Manual',\n",
              " 'Third Owner',\n",
              " 'Tata Indica Vista Quadrajet LS',\n",
              " '2014',\n",
              " '125000',\n",
              " '166000',\n",
              " 'Diesel',\n",
              " 'Individual',\n",
              " 'Manual',\n",
              " 'Fourth & Above Owner',\n",
              " 'Maruti Swift 1.3 VXi',\n",
              " '2006',\n",
              " '130000',\n",
              " '110000',\n",
              " 'Petrol',\n",
              " 'Individual',\n",
              " 'Manual',\n",
              " 'Third Owner',\n",
              " 'Ford EcoSport 1.5 Diesel Titanium BSIV',\n",
              " '2017',\n",
              " '925000',\n",
              " '35000',\n",
              " 'Diesel',\n",
              " 'Individual',\n",
              " 'Manual',\n",
              " 'First Owner',\n",
              " 'Maruti Ciaz 1.3 Delta',\n",
              " '2018',\n",
              " '750000',\n",
              " '60000',\n",
              " 'Diesel',\n",
              " 'Individual',\n",
              " 'Manual',\n",
              " 'First Owner',\n",
              " 'Honda Civic 1.8 V AT',\n",
              " '2007',\n",
              " '200000',\n",
              " '54000',\n",
              " 'Petrol',\n",
              " 'Individual',\n",
              " 'Automatic',\n",
              " 'Second Owner',\n",
              " 'Hyundai i10 Sportz 1.2',\n",
              " '2010',\n",
              " '248000',\n",
              " '63000',\n",
              " 'Petrol',\n",
              " 'Individual',\n",
              " 'Manual',\n",
              " 'Second Owner',\n",
              " 'Skoda Rapid 1.5 TDI Elegance',\n",
              " '2014',\n",
              " '450000',\n",
              " '120000',\n",
              " 'Diesel',\n",
              " 'Individual',\n",
              " 'Manual',\n",
              " 'Second Owner',\n",
              " 'Hyundai Getz GLS',\n",
              " '2005',\n",
              " '80000',\n",
              " '120000',\n",
              " 'Petrol',\n",
              " 'Individual',\n",
              " 'Manual',\n",
              " 'Third Owner',\n",
              " 'Nissan Terrano XL',\n",
              " '2014',\n",
              " '650000',\n",
              " '76000',\n",
              " 'Petrol',\n",
              " 'Individual',\n",
              " 'Manual',\n",
              " 'Second Owner',\n",
              " 'Hyundai Grand i10 CRDi Sportz',\n",
              " '2015',\n",
              " '450000',\n",
              " '80000',\n",
              " 'Diesel',\n",
              " 'Individual',\n",
              " 'Manual',\n",
              " 'First Owner',\n",
              " 'Hyundai Elite i20 Diesel Era',\n",
              " '2019',\n",
              " '650000',\n",
              " '25000',\n",
              " 'Diesel',\n",
              " 'Individual',\n",
              " 'Manual',\n",
              " 'First Owner',\n",
              " 'Honda Amaze S i-VTEC',\n",
              " '2016',\n",
              " '495000',\n",
              " '11958',\n",
              " 'Petrol',\n",
              " 'Dealer',\n",
              " 'Manual',\n",
              " 'First Owner',\n",
              " 'Honda Brio S MT',\n",
              " '2015',\n",
              " '371000',\n",
              " '20000',\n",
              " 'Petrol',\n",
              " 'Dealer',\n",
              " 'Manual',\n",
              " 'First Owner',\n",
              " 'Hyundai Creta 1.6 SX Option',\n",
              " '2017',\n",
              " '1025000',\n",
              " '9000',\n",
              " 'Petrol',\n",
              " 'Dealer',\n",
              " 'Manual',\n",
              " 'First Owner',\n",
              " 'Mercedes-Benz S-Class S 350d Connoisseurs Edition',\n",
              " '2017',\n",
              " '8150000',\n",
              " '6500',\n",
              " 'Diesel',\n",
              " 'Dealer',\n",
              " 'Automatic',\n",
              " 'First Owner',\n",
              " 'Mahindra XUV500 W8 2WD',\n",
              " '2015',\n",
              " '750000',\n",
              " '70000',\n",
              " 'Diesel',\n",
              " 'Individual',\n",
              " 'Manual',\n",
              " 'First Owner',\n",
              " 'Renault Duster 85PS Diesel RxL Optional',\n",
              " '2013',\n",
              " '600000',\n",
              " '120000',\n",
              " 'Diesel',\n",
              " 'Individual',\n",
              " 'Manual',\n",
              " 'First Owner',\n",
              " 'Hyundai Santro Xing XO',\n",
              " '2007',\n",
              " '80000',\n",
              " '58000',\n",
              " 'Petrol',\n",
              " 'Dealer',\n",
              " 'Manual',\n",
              " 'Second Owner',\n",
              " 'Mahindra Bolero 2011-2019 SLE',\n",
              " '2013',\n",
              " '325000',\n",
              " '62200',\n",
              " 'Diesel',\n",
              " 'Dealer',\n",
              " 'Manual',\n",
              " 'First Owner',\n",
              " 'Audi A6 2.0 TDI Premium Plus',\n",
              " '2014',\n",
              " '1470000',\n",
              " '34000',\n",
              " 'Diesel',\n",
              " 'Dealer',\n",
              " 'Automatic',\n",
              " 'Second Owner',\n",
              " 'Fiat Avventura MULTIJET Emotion',\n",
              " '2015',\n",
              " '350000',\n",
              " '53000',\n",
              " 'Diesel',\n",
              " 'Individual',\n",
              " 'Manual',\n",
              " 'Second Owner',\n",
              " 'Audi A8 4.2 TDI',\n",
              " '2013',\n",
              " '2800000',\n",
              " '49000',\n",
              " 'Diesel',\n",
              " 'Dealer',\n",
              " 'Automatic',\n",
              " 'First Owner',\n",
              " 'Datsun RediGO 1.0 S',\n",
              " '2017',\n",
              " '210000',\n",
              " '15000',\n",
              " 'Petrol',\n",
              " 'Dealer',\n",
              " 'Manual',\n",
              " 'Second Owner',\n",
              " 'Volkswagen Jetta 1.4 TSI Comfortline',\n",
              " '2013',\n",
              " '450000',\n",
              " '50000',\n",
              " 'Petrol',\n",
              " 'Individual',\n",
              " 'Manual',\n",
              " 'First Owner',\n",
              " 'Audi A4 2.0 TDI 177 Bhp Premium Plus',\n",
              " '2013',\n",
              " '1150000',\n",
              " '53000',\n",
              " 'Diesel',\n",
              " 'Dealer',\n",
              " 'Automatic',\n",
              " 'First Owner',\n",
              " 'Honda Civic 1.8 V AT',\n",
              " '2009',\n",
              " '210000',\n",
              " '63500',\n",
              " 'Petrol',\n",
              " 'Dealer',\n",
              " 'Automatic',\n",
              " 'First Owner',\n",
              " 'Mercedes-Benz E-Class Exclusive E 200 BSIV',\n",
              " '2018',\n",
              " '4500000',\n",
              " '9800',\n",
              " 'Petrol',\n",
              " 'Dealer',\n",
              " 'Automatic',\n",
              " 'First Owner',\n",
              " 'BMW X1 sDrive 20d xLine',\n",
              " '2017',\n",
              " '2750000',\n",
              " '13000',\n",
              " 'Diesel',\n",
              " 'Individual',\n",
              " 'Automatic',\n",
              " 'First Owner',\n",
              " 'Volvo V40 D3 R Design',\n",
              " '2018',\n",
              " '1975000',\n",
              " '21000',\n",
              " 'Diesel',\n",
              " 'Dealer',\n",
              " 'Automatic',\n",
              " 'First Owner',\n",
              " 'Maruti SX4 Zxi BSIII',\n",
              " '2008',\n",
              " '175000',\n",
              " '29173',\n",
              " 'Petrol',\n",
              " 'Dealer',\n",
              " 'Manual',\n",
              " 'First Owner',\n",
              " 'BMW 7 Series 730Ld',\n",
              " '2012',\n",
              " '2500000',\n",
              " '48000',\n",
              " 'Diesel',\n",
              " 'Dealer',\n",
              " 'Automatic',\n",
              " 'First Owner',\n",
              " 'Mahindra Bolero Power Plus SLX',\n",
              " '2017',\n",
              " '628000',\n",
              " '120000',\n",
              " 'Diesel',\n",
              " 'Individual',\n",
              " 'Manual',\n",
              " 'First Owner',\n",
              " 'Hyundai Sonata CRDi M/T',\n",
              " '2010',\n",
              " '600000',\n",
              " '100000',\n",
              " 'Diesel',\n",
              " 'Individual',\n",
              " 'Manual',\n",
              " 'First Owner',\n",
              " 'Nissan Micra Active XV Petrol',\n",
              " '2017',\n",
              " '399000',\n",
              " '30000',\n",
              " 'Petrol',\n",
              " 'Individual',\n",
              " 'Manual',\n",
              " 'First Owner',\n",
              " 'Mahindra Xylo D4',\n",
              " '2018',\n",
              " '750000',\n",
              " '87000',\n",
              " 'Diesel',\n",
              " 'Individual',\n",
              " 'Manual',\n",
              " 'First Owner',\n",
              " 'Hyundai Elite i20 Sportz Plus Dual Tone BSIV',\n",
              " '2019',\n",
              " '750000',\n",
              " '15000',\n",
              " 'Petrol',\n",
              " 'Individual',\n",
              " 'Manual',\n",
              " 'First Owner',\n",
              " 'Renault KWID RXT',\n",
              " '2017',\n",
              " '315000',\n",
              " '16000',\n",
              " 'Petrol',\n",
              " 'Individual',\n",
              " 'Manual',\n",
              " 'First Owner',\n",
              " 'Mahindra Xylo E4 BS III',\n",
              " '2012',\n",
              " '600000',\n",
              " '60000',\n",
              " 'Diesel',\n",
              " 'Individual',\n",
              " 'Manual',\n",
              " 'First Owner',\n",
              " 'Maruti Wagon R LXI Minor',\n",
              " '2010',\n",
              " '100000',\n",
              " '60000',\n",
              " 'Petrol',\n",
              " 'Individual',\n",
              " 'Manual',\n",
              " 'Fourth & Above Owner',\n",
              " 'Maruti SX4 ZXI MT BSIV',\n",
              " '2011',\n",
              " '250000',\n",
              " '110000',\n",
              " 'Petrol',\n",
              " 'Individual',\n",
              " 'Manual',\n",
              " 'Third Owner',\n",
              " 'Renault KWID RXT',\n",
              " '2017',\n",
              " '350000',\n",
              " '25000',\n",
              " 'Petrol',\n",
              " 'Individual',\n",
              " 'Manual',\n",
              " 'First Owner',\n",
              " 'Hyundai Creta 1.4 CRDi S',\n",
              " '2016',\n",
              " '780000',\n",
              " '60000',\n",
              " 'Diesel',\n",
              " 'Individual',\n",
              " 'Manual',\n",
              " 'First Owner',\n",
              " 'Maruti Swift Dzire VDI',\n",
              " '2014',\n",
              " '434000',\n",
              " '79350',\n",
              " 'Diesel',\n",
              " 'Individual',\n",
              " 'Manual',\n",
              " 'Second Owner',\n",
              " 'Hyundai Verna 1.6 VTVT AT S Option',\n",
              " '2016',\n",
              " '690000',\n",
              " '80000',\n",
              " 'Petrol',\n",
              " 'Individual',\n",
              " 'Automatic',\n",
              " 'First Owner',\n",
              " 'Mahindra Scorpio LX BSIV',\n",
              " '2014',\n",
              " '555000',\n",
              " '90000',\n",
              " 'Diesel',\n",
              " 'Individual',\n",
              " 'Manual',\n",
              " 'Second Owner',\n",
              " 'Maruti SX4 Vxi BSIII',\n",
              " '2007',\n",
              " '120000',\n",
              " '90000',\n",
              " 'Petrol',\n",
              " 'Individual',\n",
              " 'Manual',\n",
              " 'Second Owner',\n",
              " 'Maruti Ertiga VDI',\n",
              " '2014',\n",
              " '500000',\n",
              " '120000',\n",
              " 'Diesel',\n",
              " 'Individual',\n",
              " 'Manual',\n",
              " 'Second Owner',\n",
              " 'Chevrolet Beat Diesel',\n",
              " '2013',\n",
              " '165000',\n",
              " '60000',\n",
              " 'Diesel',\n",
              " 'Individual',\n",
              " 'Manual',\n",
              " 'Second Owner',\n",
              " 'Maruti Zen LX',\n",
              " '2004',\n",
              " '95000',\n",
              " '50000',\n",
              " 'Petrol',\n",
              " 'Individual',\n",
              " 'Manual',\n",
              " 'First Owner',\n",
              " ...]"
            ]
          },
          "metadata": {},
          "execution_count": 7
        }
      ]
    },
    {
      "cell_type": "code",
      "metadata": {
        "id": "iG98bSAR101T"
      },
      "source": [
        "carRDD = sc.textFile('/content/Dataset/CAR_DETAILS_FROM_CAR_DEKHO.csv').map(lambda l:l.split())"
      ],
      "execution_count": 8,
      "outputs": []
    },
    {
      "cell_type": "code",
      "metadata": {
        "id": "2BU0Xzv62F4K",
        "colab": {
          "base_uri": "https://localhost:8080/"
        },
        "outputId": "cd5e2e9a-b09e-48bd-b192-4ba73bbfc932"
      },
      "source": [
        "carRDD.take(2)"
      ],
      "execution_count": 9,
      "outputs": [
        {
          "output_type": "execute_result",
          "data": {
            "text/plain": [
              "[['name,year,selling_price,km_driven,fuel,seller_type,transmission,owner'],\n",
              " ['Maruti',\n",
              "  '800',\n",
              "  'AC,2007,60000,70000,Petrol,Individual,Manual,First',\n",
              "  'Owner']]"
            ]
          },
          "metadata": {},
          "execution_count": 9
        }
      ]
    },
    {
      "cell_type": "code",
      "metadata": {
        "id": "lhoYJvOg3YDG"
      },
      "source": [
        "# Import the necessary modules \n",
        "from pyspark.sql import Row"
      ],
      "execution_count": 10,
      "outputs": []
    },
    {
      "cell_type": "markdown",
      "source": [
        "Loading Data"
      ],
      "metadata": {
        "id": "xLokOMvpPg8s"
      }
    },
    {
      "cell_type": "code",
      "source": [
        "data = spark.read.csv('/content/Dataset/CAR_DETAILS_FROM_CAR_DEKHO.csv', inferSchema=True, header=True)\n",
        "data.show(10)"
      ],
      "metadata": {
        "colab": {
          "base_uri": "https://localhost:8080/"
        },
        "id": "Da4ihT460nEC",
        "outputId": "e8ef362c-5855-437a-ab50-43323765e4aa"
      },
      "execution_count": 11,
      "outputs": [
        {
          "output_type": "stream",
          "name": "stdout",
          "text": [
            "+--------------------+----+-------------+---------+------+-----------+------------+------------+\n",
            "|                name|year|selling_price|km_driven|  fuel|seller_type|transmission|       owner|\n",
            "+--------------------+----+-------------+---------+------+-----------+------------+------------+\n",
            "|       Maruti 800 AC|2007|        60000|    70000|Petrol| Individual|      Manual| First Owner|\n",
            "|Maruti Wagon R LX...|2007|       135000|    50000|Petrol| Individual|      Manual| First Owner|\n",
            "|Hyundai Verna 1.6 SX|2012|       600000|   100000|Diesel| Individual|      Manual| First Owner|\n",
            "|Datsun RediGO T O...|2017|       250000|    46000|Petrol| Individual|      Manual| First Owner|\n",
            "|Honda Amaze VX i-...|2014|       450000|   141000|Diesel| Individual|      Manual|Second Owner|\n",
            "|Maruti Alto LX BSIII|2007|       140000|   125000|Petrol| Individual|      Manual| First Owner|\n",
            "|Hyundai Xcent 1.2...|2016|       550000|    25000|Petrol| Individual|      Manual| First Owner|\n",
            "|Tata Indigo Grand...|2014|       240000|    60000|Petrol| Individual|      Manual|Second Owner|\n",
            "|Hyundai Creta 1.6...|2015|       850000|    25000|Petrol| Individual|      Manual| First Owner|\n",
            "|Maruti Celerio Gr...|2017|       365000|    78000|   CNG| Individual|      Manual| First Owner|\n",
            "+--------------------+----+-------------+---------+------+-----------+------------+------------+\n",
            "only showing top 10 rows\n",
            "\n"
          ]
        }
      ]
    },
    {
      "cell_type": "code",
      "source": [
        "data.count(), len(data.columns)"
      ],
      "metadata": {
        "colab": {
          "base_uri": "https://localhost:8080/"
        },
        "id": "jrg_e3l49yfr",
        "outputId": "18ca5673-e10a-44f9-c4d3-f8409aaca182"
      },
      "execution_count": 12,
      "outputs": [
        {
          "output_type": "execute_result",
          "data": {
            "text/plain": [
              "(4340, 8)"
            ]
          },
          "metadata": {},
          "execution_count": 12
        }
      ]
    },
    {
      "cell_type": "code",
      "metadata": {
        "id": "xQKo27lw83AA",
        "colab": {
          "base_uri": "https://localhost:8080/"
        },
        "outputId": "df127fa6-4c61-41f2-baca-2a1747d80a8a"
      },
      "source": [
        "data.dtypes"
      ],
      "execution_count": 12,
      "outputs": [
        {
          "output_type": "execute_result",
          "data": {
            "text/plain": [
              "[('name', 'string'),\n",
              " ('year', 'int'),\n",
              " ('selling_price', 'int'),\n",
              " ('km_driven', 'int'),\n",
              " ('fuel', 'string'),\n",
              " ('seller_type', 'string'),\n",
              " ('transmission', 'string'),\n",
              " ('owner', 'string')]"
            ]
          },
          "metadata": {},
          "execution_count": 12
        }
      ]
    },
    {
      "cell_type": "markdown",
      "source": [
        "A schema is a big picture of your dataset. What your dataset actually narrates. Columns name of dataframe, with their datatype."
      ],
      "metadata": {
        "id": "yvWBigSVTgYp"
      }
    },
    {
      "cell_type": "code",
      "metadata": {
        "id": "kxpPGoCN8-QY",
        "colab": {
          "base_uri": "https://localhost:8080/"
        },
        "outputId": "fc258d90-dd2d-4dd1-9946-0dfbbb755c28"
      },
      "source": [
        "data.printSchema()"
      ],
      "execution_count": 13,
      "outputs": [
        {
          "output_type": "stream",
          "name": "stdout",
          "text": [
            "root\n",
            " |-- name: string (nullable = true)\n",
            " |-- year: integer (nullable = true)\n",
            " |-- selling_price: integer (nullable = true)\n",
            " |-- km_driven: integer (nullable = true)\n",
            " |-- fuel: string (nullable = true)\n",
            " |-- seller_type: string (nullable = true)\n",
            " |-- transmission: string (nullable = true)\n",
            " |-- owner: string (nullable = true)\n",
            "\n"
          ]
        }
      ]
    },
    {
      "cell_type": "code",
      "source": [
        "#view statistical measures of data \n",
        "data.describe().show()"
      ],
      "metadata": {
        "colab": {
          "base_uri": "https://localhost:8080/"
        },
        "id": "c-1fBmzs2o6Y",
        "outputId": "9843ebeb-4a42-4a0b-dd45-55ea381975c6"
      },
      "execution_count": 14,
      "outputs": [
        {
          "output_type": "stream",
          "name": "stdout",
          "text": [
            "+-------+--------------------+------------------+-----------------+-----------------+------+----------------+------------+-----------+\n",
            "|summary|                name|              year|    selling_price|        km_driven|  fuel|     seller_type|transmission|      owner|\n",
            "+-------+--------------------+------------------+-----------------+-----------------+------+----------------+------------+-----------+\n",
            "|  count|                4340|              4340|             4340|             4340|  4340|            4340|        4340|       4340|\n",
            "|   mean|                null|2013.0907834101383|504127.3117511521|66215.77741935484|  null|            null|        null|       null|\n",
            "| stddev|                null| 4.215343939724156|578548.7361388858|46644.10219362085|  null|            null|        null|       null|\n",
            "|    min|Ambassador CLASSI...|              1992|            20000|                1|   CNG|          Dealer|   Automatic|First Owner|\n",
            "|    max|Volvo XC60 D5 Ins...|              2020|          8900000|           806599|Petrol|Trustmark Dealer|      Manual|Third Owner|\n",
            "+-------+--------------------+------------------+-----------------+-----------------+------+----------------+------------+-----------+\n",
            "\n"
          ]
        }
      ]
    },
    {
      "cell_type": "markdown",
      "source": [
        "As 'name', 'fuel', 'seller_type' and 'transmission' are all object type attributes so they don't have mean and standard deviation, as a result in summary for the mentioned attributes these particular things are null"
      ],
      "metadata": {
        "id": "NuXpGdynTrG-"
      }
    },
    {
      "cell_type": "markdown",
      "metadata": {
        "id": "xWDPhWNV9ekc"
      },
      "source": [
        "# Data Exploration"
      ]
    },
    {
      "cell_type": "code",
      "source": [
        "data.count()   #The number of rows"
      ],
      "metadata": {
        "colab": {
          "base_uri": "https://localhost:8080/"
        },
        "id": "dU_fxdsoUNxV",
        "outputId": "52564788-5bc2-4a5b-889d-fb1c1aa160ad"
      },
      "execution_count": 15,
      "outputs": [
        {
          "output_type": "execute_result",
          "data": {
            "text/plain": [
              "4340"
            ]
          },
          "metadata": {},
          "execution_count": 15
        }
      ]
    },
    {
      "cell_type": "code",
      "source": [
        "data.columns"
      ],
      "metadata": {
        "colab": {
          "base_uri": "https://localhost:8080/"
        },
        "id": "cH-0HLSkV-ct",
        "outputId": "0b53ec5b-1d3c-4924-fac7-c0735ddca06c"
      },
      "execution_count": 16,
      "outputs": [
        {
          "output_type": "execute_result",
          "data": {
            "text/plain": [
              "['name',\n",
              " 'year',\n",
              " 'selling_price',\n",
              " 'km_driven',\n",
              " 'fuel',\n",
              " 'seller_type',\n",
              " 'transmission',\n",
              " 'owner']"
            ]
          },
          "metadata": {},
          "execution_count": 16
        }
      ]
    },
    {
      "cell_type": "markdown",
      "source": [
        "Checking for Null values"
      ],
      "metadata": {
        "id": "IEI1UbkxcM5t"
      }
    },
    {
      "cell_type": "code",
      "source": [
        "for col in data.columns:\n",
        "  print(col, \"has\", data.filter(data[col].isNull()).count(), \"Null values.\")"
      ],
      "metadata": {
        "colab": {
          "base_uri": "https://localhost:8080/"
        },
        "id": "HQoQaw3IU63V",
        "outputId": "79729429-ab42-445b-cff4-e7c76d0c7500"
      },
      "execution_count": 19,
      "outputs": [
        {
          "output_type": "stream",
          "name": "stdout",
          "text": [
            "name has 0 Null values.\n",
            "year has 0 Null values.\n",
            "selling_price has 0 Null values.\n",
            "km_driven has 0 Null values.\n",
            "fuel has 0 Null values.\n",
            "seller_type has 0 Null values.\n",
            "transmission has 0 Null values.\n",
            "owner has 0 Null values.\n"
          ]
        }
      ]
    },
    {
      "cell_type": "markdown",
      "source": [
        "Above we can see that there are no null values in the data"
      ],
      "metadata": {
        "id": "8l-PmHeYiCO7"
      }
    },
    {
      "cell_type": "markdown",
      "source": [
        "Showing Group wise count\n",
        "\n",
        "Using groupby() function"
      ],
      "metadata": {
        "id": "XCP0whb4ePhX"
      }
    },
    {
      "cell_type": "code",
      "source": [
        "data.groupBy(\"fuel\").count().sort(\"fuel\").show()"
      ],
      "metadata": {
        "colab": {
          "base_uri": "https://localhost:8080/"
        },
        "id": "1VjCvhITu2Pg",
        "outputId": "b8da3a21-4d99-43c5-9944-6a3b9535fdb6"
      },
      "execution_count": 22,
      "outputs": [
        {
          "output_type": "stream",
          "name": "stdout",
          "text": [
            "+--------+-----+\n",
            "|    fuel|count|\n",
            "+--------+-----+\n",
            "|     CNG|   40|\n",
            "|  Diesel| 2153|\n",
            "|Electric|    1|\n",
            "|     LPG|   23|\n",
            "|  Petrol| 2123|\n",
            "+--------+-----+\n",
            "\n"
          ]
        }
      ]
    },
    {
      "cell_type": "markdown",
      "source": [
        "As the number of instance with 'Electric' as fuel is only 1 so we can't keep it because it won't help in random split of the data because this instance will either in train set or test set. So after training the model it will create problem for prediction "
      ],
      "metadata": {
        "id": "USbiH_dGl8X6"
      }
    },
    {
      "cell_type": "code",
      "source": [
        "# Checking for the instance where the fuel is 'Electric'\n",
        "data.where(data.fuel == 'Electric').show()"
      ],
      "metadata": {
        "colab": {
          "base_uri": "https://localhost:8080/"
        },
        "id": "kzKxrutWjnhn",
        "outputId": "98f3c962-2541-488e-83a4-53f57f6b4e3c"
      },
      "execution_count": 49,
      "outputs": [
        {
          "output_type": "stream",
          "name": "stdout",
          "text": [
            "+-------------------+----+-------------+---------+--------+-----------+------------+------------+\n",
            "|               name|year|selling_price|km_driven|    fuel|seller_type|transmission|       owner|\n",
            "+-------------------+----+-------------+---------+--------+-----------+------------+------------+\n",
            "|Toyota Camry Hybrid|2006|       310000|    62000|Electric|     Dealer|   Automatic|Second Owner|\n",
            "+-------------------+----+-------------+---------+--------+-----------+------------+------------+\n",
            "\n"
          ]
        }
      ]
    },
    {
      "cell_type": "markdown",
      "source": [
        "Creating a new dataframe where all the instances will be present except Electric fuel. This data frame will be used now onwards"
      ],
      "metadata": {
        "id": "MLrCrR8Tma3u"
      }
    },
    {
      "cell_type": "code",
      "source": [
        "new_data = data.filter((data.fuel != \"Electric\"))\n",
        "  \n",
        "new_data.show()\n"
      ],
      "metadata": {
        "colab": {
          "base_uri": "https://localhost:8080/"
        },
        "id": "OsRYFO5Gkg2f",
        "outputId": "a3806985-41f9-4447-bb79-031f7f47b350"
      },
      "execution_count": 51,
      "outputs": [
        {
          "output_type": "stream",
          "name": "stdout",
          "text": [
            "+--------------------+----+-------------+---------+------+-----------+------------+------------+\n",
            "|                name|year|selling_price|km_driven|  fuel|seller_type|transmission|       owner|\n",
            "+--------------------+----+-------------+---------+------+-----------+------------+------------+\n",
            "|       Maruti 800 AC|2007|        60000|    70000|Petrol| Individual|      Manual| First Owner|\n",
            "|Maruti Wagon R LX...|2007|       135000|    50000|Petrol| Individual|      Manual| First Owner|\n",
            "|Hyundai Verna 1.6 SX|2012|       600000|   100000|Diesel| Individual|      Manual| First Owner|\n",
            "|Datsun RediGO T O...|2017|       250000|    46000|Petrol| Individual|      Manual| First Owner|\n",
            "|Honda Amaze VX i-...|2014|       450000|   141000|Diesel| Individual|      Manual|Second Owner|\n",
            "|Maruti Alto LX BSIII|2007|       140000|   125000|Petrol| Individual|      Manual| First Owner|\n",
            "|Hyundai Xcent 1.2...|2016|       550000|    25000|Petrol| Individual|      Manual| First Owner|\n",
            "|Tata Indigo Grand...|2014|       240000|    60000|Petrol| Individual|      Manual|Second Owner|\n",
            "|Hyundai Creta 1.6...|2015|       850000|    25000|Petrol| Individual|      Manual| First Owner|\n",
            "|Maruti Celerio Gr...|2017|       365000|    78000|   CNG| Individual|      Manual| First Owner|\n",
            "|Chevrolet Sail 1....|2015|       260000|    35000|Petrol| Individual|      Manual| First Owner|\n",
            "|Tata Indigo Grand...|2014|       250000|   100000|Petrol| Individual|      Manual| First Owner|\n",
            "|Toyota Corolla Al...|2018|      1650000|    25000|Petrol|     Dealer|   Automatic| First Owner|\n",
            "|       Maruti 800 AC|2007|        60000|    70000|Petrol| Individual|      Manual| First Owner|\n",
            "|Maruti Wagon R LX...|2007|       135000|    50000|Petrol| Individual|      Manual| First Owner|\n",
            "|Hyundai Verna 1.6 SX|2012|       600000|   100000|Diesel| Individual|      Manual| First Owner|\n",
            "|Datsun RediGO T O...|2017|       250000|    46000|Petrol| Individual|      Manual| First Owner|\n",
            "|Honda Amaze VX i-...|2014|       450000|   141000|Diesel| Individual|      Manual|Second Owner|\n",
            "|Maruti Alto LX BSIII|2007|       140000|   125000|Petrol| Individual|      Manual| First Owner|\n",
            "|Hyundai Xcent 1.2...|2016|       550000|    25000|Petrol| Individual|      Manual| First Owner|\n",
            "+--------------------+----+-------------+---------+------+-----------+------------+------------+\n",
            "only showing top 20 rows\n",
            "\n"
          ]
        }
      ]
    },
    {
      "cell_type": "code",
      "source": [
        "from pyspark.sql.functions import *"
      ],
      "metadata": {
        "id": "cbkEW6onODPl"
      },
      "execution_count": 116,
      "outputs": []
    },
    {
      "cell_type": "markdown",
      "source": [
        "Some Preprocessing with 'year' column as apurpose for EDA. Adding a column year_of_service by sbtracting the given year from the current year"
      ],
      "metadata": {
        "id": "FRPJROoBPmD-"
      }
    },
    {
      "cell_type": "code",
      "source": [
        "new_data = new_data.withColumn(\"current_year\",year(current_date()))\n",
        "#new_data = new_data.withcolumn(\"\")\n",
        "new_data.show()\n"
      ],
      "metadata": {
        "colab": {
          "base_uri": "https://localhost:8080/"
        },
        "id": "ZC14X3w6OWVV",
        "outputId": "79f5660e-282e-4740-efaf-7a2c8f635964"
      },
      "execution_count": 119,
      "outputs": [
        {
          "output_type": "stream",
          "name": "stdout",
          "text": [
            "+--------------------+----+-------------+---------+------+-----------+------------+------------+------------+------------+\n",
            "|                name|year|selling_price|km_driven|  fuel|seller_type|transmission|       owner|current_date|current_year|\n",
            "+--------------------+----+-------------+---------+------+-----------+------------+------------+------------+------------+\n",
            "|       Maruti 800 AC|2007|        60000|    70000|Petrol| Individual|      Manual| First Owner|  2022-03-05|        2022|\n",
            "|Maruti Wagon R LX...|2007|       135000|    50000|Petrol| Individual|      Manual| First Owner|  2022-03-05|        2022|\n",
            "|Hyundai Verna 1.6 SX|2012|       600000|   100000|Diesel| Individual|      Manual| First Owner|  2022-03-05|        2022|\n",
            "|Datsun RediGO T O...|2017|       250000|    46000|Petrol| Individual|      Manual| First Owner|  2022-03-05|        2022|\n",
            "|Honda Amaze VX i-...|2014|       450000|   141000|Diesel| Individual|      Manual|Second Owner|  2022-03-05|        2022|\n",
            "|Maruti Alto LX BSIII|2007|       140000|   125000|Petrol| Individual|      Manual| First Owner|  2022-03-05|        2022|\n",
            "|Hyundai Xcent 1.2...|2016|       550000|    25000|Petrol| Individual|      Manual| First Owner|  2022-03-05|        2022|\n",
            "|Tata Indigo Grand...|2014|       240000|    60000|Petrol| Individual|      Manual|Second Owner|  2022-03-05|        2022|\n",
            "|Hyundai Creta 1.6...|2015|       850000|    25000|Petrol| Individual|      Manual| First Owner|  2022-03-05|        2022|\n",
            "|Maruti Celerio Gr...|2017|       365000|    78000|   CNG| Individual|      Manual| First Owner|  2022-03-05|        2022|\n",
            "|Chevrolet Sail 1....|2015|       260000|    35000|Petrol| Individual|      Manual| First Owner|  2022-03-05|        2022|\n",
            "|Tata Indigo Grand...|2014|       250000|   100000|Petrol| Individual|      Manual| First Owner|  2022-03-05|        2022|\n",
            "|Toyota Corolla Al...|2018|      1650000|    25000|Petrol|     Dealer|   Automatic| First Owner|  2022-03-05|        2022|\n",
            "|       Maruti 800 AC|2007|        60000|    70000|Petrol| Individual|      Manual| First Owner|  2022-03-05|        2022|\n",
            "|Maruti Wagon R LX...|2007|       135000|    50000|Petrol| Individual|      Manual| First Owner|  2022-03-05|        2022|\n",
            "|Hyundai Verna 1.6 SX|2012|       600000|   100000|Diesel| Individual|      Manual| First Owner|  2022-03-05|        2022|\n",
            "|Datsun RediGO T O...|2017|       250000|    46000|Petrol| Individual|      Manual| First Owner|  2022-03-05|        2022|\n",
            "|Honda Amaze VX i-...|2014|       450000|   141000|Diesel| Individual|      Manual|Second Owner|  2022-03-05|        2022|\n",
            "|Maruti Alto LX BSIII|2007|       140000|   125000|Petrol| Individual|      Manual| First Owner|  2022-03-05|        2022|\n",
            "|Hyundai Xcent 1.2...|2016|       550000|    25000|Petrol| Individual|      Manual| First Owner|  2022-03-05|        2022|\n",
            "+--------------------+----+-------------+---------+------+-----------+------------+------------+------------+------------+\n",
            "only showing top 20 rows\n",
            "\n"
          ]
        }
      ]
    },
    {
      "cell_type": "code",
      "source": [
        "new_data.dtypes"
      ],
      "metadata": {
        "colab": {
          "base_uri": "https://localhost:8080/"
        },
        "id": "oRHfyB6YOmsq",
        "outputId": "1c899ff8-2c48-4495-ccd4-325fc101e076"
      },
      "execution_count": 120,
      "outputs": [
        {
          "output_type": "execute_result",
          "data": {
            "text/plain": [
              "[('name', 'string'),\n",
              " ('year', 'int'),\n",
              " ('selling_price', 'int'),\n",
              " ('km_driven', 'int'),\n",
              " ('fuel', 'string'),\n",
              " ('seller_type', 'string'),\n",
              " ('transmission', 'string'),\n",
              " ('owner', 'string'),\n",
              " ('current_date', 'date'),\n",
              " ('current_year', 'int')]"
            ]
          },
          "metadata": {},
          "execution_count": 120
        }
      ]
    },
    {
      "cell_type": "code",
      "source": [
        "new_data = new_data.withColumn(\"year_of_service\",new_data.current_year - new_data.year)\n",
        "new_data.show(5)"
      ],
      "metadata": {
        "colab": {
          "base_uri": "https://localhost:8080/"
        },
        "id": "eaM32VRTO8kS",
        "outputId": "be12ecd4-7c2c-4a8e-8b91-b73a020fe911"
      },
      "execution_count": 124,
      "outputs": [
        {
          "output_type": "stream",
          "name": "stdout",
          "text": [
            "+--------------------+----+-------------+---------+------+-----------+------------+------------+------------+------------+---------------+\n",
            "|                name|year|selling_price|km_driven|  fuel|seller_type|transmission|       owner|current_date|current_year|year_of_service|\n",
            "+--------------------+----+-------------+---------+------+-----------+------------+------------+------------+------------+---------------+\n",
            "|       Maruti 800 AC|2007|        60000|    70000|Petrol| Individual|      Manual| First Owner|  2022-03-05|        2022|             15|\n",
            "|Maruti Wagon R LX...|2007|       135000|    50000|Petrol| Individual|      Manual| First Owner|  2022-03-05|        2022|             15|\n",
            "|Hyundai Verna 1.6 SX|2012|       600000|   100000|Diesel| Individual|      Manual| First Owner|  2022-03-05|        2022|             10|\n",
            "|Datsun RediGO T O...|2017|       250000|    46000|Petrol| Individual|      Manual| First Owner|  2022-03-05|        2022|              5|\n",
            "|Honda Amaze VX i-...|2014|       450000|   141000|Diesel| Individual|      Manual|Second Owner|  2022-03-05|        2022|              8|\n",
            "+--------------------+----+-------------+---------+------+-----------+------------+------------+------------+------------+---------------+\n",
            "only showing top 5 rows\n",
            "\n"
          ]
        }
      ]
    },
    {
      "cell_type": "code",
      "source": [
        "new_data.count(), len(new_data.columns)"
      ],
      "metadata": {
        "colab": {
          "base_uri": "https://localhost:8080/"
        },
        "id": "6tXCz7MUnFPb",
        "outputId": "5090168e-230a-4820-fc99-9cf78d5f752e"
      },
      "execution_count": 125,
      "outputs": [
        {
          "output_type": "execute_result",
          "data": {
            "text/plain": [
              "(4339, 11)"
            ]
          },
          "metadata": {},
          "execution_count": 125
        }
      ]
    },
    {
      "cell_type": "markdown",
      "source": [
        "Rechecking for the 'Electric' fuel instance in this new dataframe"
      ],
      "metadata": {
        "id": "3gBKvLOVmp-R"
      }
    },
    {
      "cell_type": "code",
      "source": [
        "new_data.where(new_data.fuel == 'Electric').show()"
      ],
      "metadata": {
        "colab": {
          "base_uri": "https://localhost:8080/"
        },
        "id": "H7mdYXzQlzaW",
        "outputId": "322fd746-8486-4d7c-d8fc-057d7bf9e323"
      },
      "execution_count": 126,
      "outputs": [
        {
          "output_type": "stream",
          "name": "stdout",
          "text": [
            "+----+----+-------------+---------+----+-----------+------------+-----+------------+------------+---------------+\n",
            "|name|year|selling_price|km_driven|fuel|seller_type|transmission|owner|current_date|current_year|year_of_service|\n",
            "+----+----+-------------+---------+----+-----------+------------+-----+------------+------------+---------------+\n",
            "+----+----+-------------+---------+----+-----------+------------+-----+------------+------------+---------------+\n",
            "\n"
          ]
        }
      ]
    },
    {
      "cell_type": "code",
      "source": [
        "new_data.groupBy(\"seller_type\").count().sort(\"seller_type\",ascending=True).show()"
      ],
      "metadata": {
        "colab": {
          "base_uri": "https://localhost:8080/"
        },
        "id": "yUrpHVRQvN37",
        "outputId": "fceb47ab-dad1-4fb6-d039-ccf5bcc7e14e"
      },
      "execution_count": 127,
      "outputs": [
        {
          "output_type": "stream",
          "name": "stdout",
          "text": [
            "+----------------+-----+\n",
            "|     seller_type|count|\n",
            "+----------------+-----+\n",
            "|          Dealer|  993|\n",
            "|      Individual| 3244|\n",
            "|Trustmark Dealer|  102|\n",
            "+----------------+-----+\n",
            "\n"
          ]
        }
      ]
    },
    {
      "cell_type": "code",
      "source": [
        "new_data.groupBy(\"transmission\").count().sort(\"transmission\",ascending=True).show()"
      ],
      "metadata": {
        "colab": {
          "base_uri": "https://localhost:8080/"
        },
        "id": "ZFF_bGtBvdPl",
        "outputId": "4eabd877-5993-42b4-9fcb-6b3d7e1b278e"
      },
      "execution_count": 128,
      "outputs": [
        {
          "output_type": "stream",
          "name": "stdout",
          "text": [
            "+------------+-----+\n",
            "|transmission|count|\n",
            "+------------+-----+\n",
            "|   Automatic|  447|\n",
            "|      Manual| 3892|\n",
            "+------------+-----+\n",
            "\n"
          ]
        }
      ]
    },
    {
      "cell_type": "code",
      "source": [
        "new_data.groupBy(\"owner\").count().sort(\"owner\",ascending=True).show()"
      ],
      "metadata": {
        "colab": {
          "base_uri": "https://localhost:8080/"
        },
        "id": "BnTEGaTQvmF8",
        "outputId": "2f654cba-d103-4e1f-ae97-781517b65788"
      },
      "execution_count": 61,
      "outputs": [
        {
          "output_type": "stream",
          "name": "stdout",
          "text": [
            "+--------------------+-----+\n",
            "|               owner|count|\n",
            "+--------------------+-----+\n",
            "|         First Owner| 2832|\n",
            "|Fourth & Above Owner|   81|\n",
            "|        Second Owner| 1105|\n",
            "|      Test Drive Car|   17|\n",
            "|         Third Owner|  304|\n",
            "+--------------------+-----+\n",
            "\n"
          ]
        }
      ]
    },
    {
      "cell_type": "code",
      "source": [
        "new_data.groupBy(\"name\").count().sort(\"name\",ascending=True).show()"
      ],
      "metadata": {
        "colab": {
          "base_uri": "https://localhost:8080/"
        },
        "id": "foJacVtNvuKs",
        "outputId": "66161c1d-ef86-411e-f778-3c1ace472239"
      },
      "execution_count": 62,
      "outputs": [
        {
          "output_type": "stream",
          "name": "stdout",
          "text": [
            "+--------------------+-----+\n",
            "|                name|count|\n",
            "+--------------------+-----+\n",
            "|Ambassador CLASSI...|    2|\n",
            "|Ambassador Classi...|    1|\n",
            "|Ambassador Grand ...|    1|\n",
            "|    Audi A4 1.8 TFSI|    1|\n",
            "|     Audi A4 2.0 TDI|    1|\n",
            "|Audi A4 2.0 TDI 1...|    2|\n",
            "|Audi A4 3.0 TDI Q...|   12|\n",
            "|Audi A4 30 TFSI T...|    2|\n",
            "|Audi A4 35 TDI Pr...|    1|\n",
            "|Audi A4 35 TDI Pr...|    1|\n",
            "|Audi A4 New  2.0 ...|    1|\n",
            "|   Audi A5 Sportback|    1|\n",
            "|Audi A6 2.0 TDI  ...|    3|\n",
            "|Audi A6 2.0 TDI P...|   13|\n",
            "|     Audi A6 2.7 TDI|    1|\n",
            "|     Audi A6 2.8 FSI|    1|\n",
            "|     Audi A8 4.2 TDI|    2|\n",
            "|Audi A8 L 3.0 TDI...|    1|\n",
            "|Audi Q3 2.0 TDI Q...|    4|\n",
            "|Audi Q3 35 TDI Qu...|    2|\n",
            "+--------------------+-----+\n",
            "only showing top 20 rows\n",
            "\n"
          ]
        }
      ]
    },
    {
      "cell_type": "markdown",
      "source": [
        "Showing group wise average selling_price"
      ],
      "metadata": {
        "id": "bk1EcyZOefaC"
      }
    },
    {
      "cell_type": "code",
      "source": [
        "new_data.groupBy('owner').mean('selling_price','km_driven').show()"
      ],
      "metadata": {
        "colab": {
          "base_uri": "https://localhost:8080/"
        },
        "id": "05IaekeXd4du",
        "outputId": "c5852d4a-bdec-4288-c73b-410db1335f3b"
      },
      "execution_count": 64,
      "outputs": [
        {
          "output_type": "stream",
          "name": "stdout",
          "text": [
            "+--------------------+------------------+------------------+\n",
            "|               owner|avg(selling_price)|    avg(km_driven)|\n",
            "+--------------------+------------------+------------------+\n",
            "|         Third Owner| 269474.0032894737| 99304.50657894737|\n",
            "|Fourth & Above Owner|173901.19753086418| 99138.13580246913|\n",
            "|        Second Owner|343921.75927601807| 81801.42262443439|\n",
            "|         First Owner| 598636.9696327683|56015.009887005646|\n",
            "|      Test Drive Car| 954293.9411764706|            4155.0|\n",
            "+--------------------+------------------+------------------+\n",
            "\n"
          ]
        }
      ]
    },
    {
      "cell_type": "code",
      "source": [
        "new_data.groupBy('transmission').mean('selling_price','km_driven').show()"
      ],
      "metadata": {
        "colab": {
          "base_uri": "https://localhost:8080/"
        },
        "id": "Sa-tn3-heLrI",
        "outputId": "d91a58d5-c25f-404c-abe5-6c2e0e0309fc"
      },
      "execution_count": 65,
      "outputs": [
        {
          "output_type": "stream",
          "name": "stdout",
          "text": [
            "+------------+------------------+-----------------+\n",
            "|transmission|avg(selling_price)|   avg(km_driven)|\n",
            "+------------+------------------+-----------------+\n",
            "|   Automatic| 1410610.720357942|49661.26174496644|\n",
            "|      Manual| 400066.6857656732|68118.16289825282|\n",
            "+------------+------------------+-----------------+\n",
            "\n"
          ]
        }
      ]
    },
    {
      "cell_type": "code",
      "source": [
        "new_data.groupBy('fuel').mean('selling_price','km_driven').show()"
      ],
      "metadata": {
        "colab": {
          "base_uri": "https://localhost:8080/"
        },
        "id": "S0M4N7A7er-X",
        "outputId": "47821066-6e25-4b11-9bb1-cfd18be8aabd"
      },
      "execution_count": 66,
      "outputs": [
        {
          "output_type": "stream",
          "name": "stdout",
          "text": [
            "+------+------------------+-----------------+\n",
            "|  fuel|avg(selling_price)|   avg(km_driven)|\n",
            "+------+------------------+-----------------+\n",
            "|Diesel| 669094.2522062239|79630.97770552717|\n",
            "|   CNG|        277174.925|         67234.75|\n",
            "|   LPG|167826.04347826086|89634.78260869565|\n",
            "|Petrol| 344840.1375412153|52340.07960433349|\n",
            "+------+------------------+-----------------+\n",
            "\n"
          ]
        }
      ]
    },
    {
      "cell_type": "code",
      "source": [
        "new_data.groupBy('year').mean('selling_price','km_driven').show()"
      ],
      "metadata": {
        "colab": {
          "base_uri": "https://localhost:8080/"
        },
        "id": "d5Fey5hDe_ZV",
        "outputId": "37485004-99fc-4b42-f0ce-26eab7061813"
      },
      "execution_count": 67,
      "outputs": [
        {
          "output_type": "stream",
          "name": "stdout",
          "text": [
            "+----+------------------+------------------+\n",
            "|year|avg(selling_price)|    avg(km_driven)|\n",
            "+----+------------------+------------------+\n",
            "|2003| 86565.21739130435| 81671.34782608696|\n",
            "|2007|162828.35074626867| 89308.67910447762|\n",
            "|2018| 910770.4590163934|27233.784153005465|\n",
            "|2015| 528942.9548693587| 60585.20665083135|\n",
            "|2006| 156403.6146788991|102976.39449541284|\n",
            "|2013| 484801.0129533679| 72728.42227979275|\n",
            "|1997|           93000.0|           90000.0|\n",
            "|2014| 523231.5640326975| 75685.27247956404|\n",
            "|2019| 1059020.482051282|20912.476923076923|\n",
            "|2004|121749.97619047618| 90273.30952380953|\n",
            "|1996|          225000.0|           47500.0|\n",
            "|1998|          214000.0|64583.333333333336|\n",
            "|2020|        818479.125|11037.166666666666|\n",
            "|2012| 371628.8530120482| 83393.55421686747|\n",
            "|2009|229564.73575129535| 92521.28497409326|\n",
            "|2016| 608364.0924369748| 55205.90476190476|\n",
            "|1995|           95000.0|          100000.0|\n",
            "|2001|          117649.9|          83712.85|\n",
            "|1992|           50000.0|          100000.0|\n",
            "|2005|109013.02352941176| 80991.51764705882|\n",
            "+----+------------------+------------------+\n",
            "only showing top 20 rows\n",
            "\n"
          ]
        }
      ]
    },
    {
      "cell_type": "code",
      "source": [
        "new_data.groupBy('year_of_service').mean('selling_price','km_driven').show()"
      ],
      "metadata": {
        "colab": {
          "base_uri": "https://localhost:8080/"
        },
        "id": "bhJc7Pj-Q1GK",
        "outputId": "3dcd4878-9173-4fc7-d53d-a0eaf63878ad"
      },
      "execution_count": 129,
      "outputs": [
        {
          "output_type": "stream",
          "name": "stdout",
          "text": [
            "+---------------+------------------+------------------+\n",
            "|year_of_service|avg(selling_price)|    avg(km_driven)|\n",
            "+---------------+------------------+------------------+\n",
            "|             26|          225000.0|           47500.0|\n",
            "|             27|           95000.0|          100000.0|\n",
            "|             12| 269678.1282051282| 91735.43589743589|\n",
            "|             22|           81500.0| 70936.91666666667|\n",
            "|             13|229564.73575129535| 92521.28497409326|\n",
            "|              6| 608364.0924369748| 55205.90476190476|\n",
            "|             16| 156403.6146788991|102976.39449541284|\n",
            "|              3| 1059020.482051282|20912.476923076923|\n",
            "|             20| 90714.28571428571| 85047.61904761905|\n",
            "|              5|  768909.839055794| 40485.76394849786|\n",
            "|             19| 86565.21739130435| 81671.34782608696|\n",
            "|             15|162828.35074626867| 89308.67910447762|\n",
            "|              9| 484801.0129533679| 72728.42227979275|\n",
            "|             17|109013.02352941176| 80991.51764705882|\n",
            "|              4| 910770.4590163934|27233.784153005465|\n",
            "|              8| 523231.5640326975| 75685.27247956404|\n",
            "|             23|           73500.0|           67702.0|\n",
            "|              7| 528942.9548693587| 60585.20665083135|\n",
            "|             10| 371628.8530120482| 83393.55421686747|\n",
            "|             25|           93000.0|           90000.0|\n",
            "+---------------+------------------+------------------+\n",
            "only showing top 20 rows\n",
            "\n"
          ]
        }
      ]
    },
    {
      "cell_type": "code",
      "source": [
        "import pandas as pd\n",
        "import numpy as np"
      ],
      "metadata": {
        "id": "AlGANaItsG76"
      },
      "execution_count": 130,
      "outputs": []
    },
    {
      "cell_type": "code",
      "source": [
        "DF = new_data.toPandas()"
      ],
      "metadata": {
        "id": "uRW3Fw5AsK7l"
      },
      "execution_count": 131,
      "outputs": []
    },
    {
      "cell_type": "code",
      "source": [
        "DF.head()"
      ],
      "metadata": {
        "colab": {
          "base_uri": "https://localhost:8080/",
          "height": 206
        },
        "id": "advuDFPDsX0a",
        "outputId": "6446232b-f585-4094-ec55-c6bffe6a21c4"
      },
      "execution_count": 132,
      "outputs": [
        {
          "output_type": "execute_result",
          "data": {
            "text/html": [
              "\n",
              "  <div id=\"df-e8d75767-b7b8-4bb7-aab5-65fd304d1c41\">\n",
              "    <div class=\"colab-df-container\">\n",
              "      <div>\n",
              "<style scoped>\n",
              "    .dataframe tbody tr th:only-of-type {\n",
              "        vertical-align: middle;\n",
              "    }\n",
              "\n",
              "    .dataframe tbody tr th {\n",
              "        vertical-align: top;\n",
              "    }\n",
              "\n",
              "    .dataframe thead th {\n",
              "        text-align: right;\n",
              "    }\n",
              "</style>\n",
              "<table border=\"1\" class=\"dataframe\">\n",
              "  <thead>\n",
              "    <tr style=\"text-align: right;\">\n",
              "      <th></th>\n",
              "      <th>name</th>\n",
              "      <th>year</th>\n",
              "      <th>selling_price</th>\n",
              "      <th>km_driven</th>\n",
              "      <th>fuel</th>\n",
              "      <th>seller_type</th>\n",
              "      <th>transmission</th>\n",
              "      <th>owner</th>\n",
              "      <th>current_date</th>\n",
              "      <th>current_year</th>\n",
              "      <th>year_of_service</th>\n",
              "    </tr>\n",
              "  </thead>\n",
              "  <tbody>\n",
              "    <tr>\n",
              "      <th>0</th>\n",
              "      <td>Maruti 800 AC</td>\n",
              "      <td>2007</td>\n",
              "      <td>60000</td>\n",
              "      <td>70000</td>\n",
              "      <td>Petrol</td>\n",
              "      <td>Individual</td>\n",
              "      <td>Manual</td>\n",
              "      <td>First Owner</td>\n",
              "      <td>2022-03-05</td>\n",
              "      <td>2022</td>\n",
              "      <td>15</td>\n",
              "    </tr>\n",
              "    <tr>\n",
              "      <th>1</th>\n",
              "      <td>Maruti Wagon R LXI Minor</td>\n",
              "      <td>2007</td>\n",
              "      <td>135000</td>\n",
              "      <td>50000</td>\n",
              "      <td>Petrol</td>\n",
              "      <td>Individual</td>\n",
              "      <td>Manual</td>\n",
              "      <td>First Owner</td>\n",
              "      <td>2022-03-05</td>\n",
              "      <td>2022</td>\n",
              "      <td>15</td>\n",
              "    </tr>\n",
              "    <tr>\n",
              "      <th>2</th>\n",
              "      <td>Hyundai Verna 1.6 SX</td>\n",
              "      <td>2012</td>\n",
              "      <td>600000</td>\n",
              "      <td>100000</td>\n",
              "      <td>Diesel</td>\n",
              "      <td>Individual</td>\n",
              "      <td>Manual</td>\n",
              "      <td>First Owner</td>\n",
              "      <td>2022-03-05</td>\n",
              "      <td>2022</td>\n",
              "      <td>10</td>\n",
              "    </tr>\n",
              "    <tr>\n",
              "      <th>3</th>\n",
              "      <td>Datsun RediGO T Option</td>\n",
              "      <td>2017</td>\n",
              "      <td>250000</td>\n",
              "      <td>46000</td>\n",
              "      <td>Petrol</td>\n",
              "      <td>Individual</td>\n",
              "      <td>Manual</td>\n",
              "      <td>First Owner</td>\n",
              "      <td>2022-03-05</td>\n",
              "      <td>2022</td>\n",
              "      <td>5</td>\n",
              "    </tr>\n",
              "    <tr>\n",
              "      <th>4</th>\n",
              "      <td>Honda Amaze VX i-DTEC</td>\n",
              "      <td>2014</td>\n",
              "      <td>450000</td>\n",
              "      <td>141000</td>\n",
              "      <td>Diesel</td>\n",
              "      <td>Individual</td>\n",
              "      <td>Manual</td>\n",
              "      <td>Second Owner</td>\n",
              "      <td>2022-03-05</td>\n",
              "      <td>2022</td>\n",
              "      <td>8</td>\n",
              "    </tr>\n",
              "  </tbody>\n",
              "</table>\n",
              "</div>\n",
              "      <button class=\"colab-df-convert\" onclick=\"convertToInteractive('df-e8d75767-b7b8-4bb7-aab5-65fd304d1c41')\"\n",
              "              title=\"Convert this dataframe to an interactive table.\"\n",
              "              style=\"display:none;\">\n",
              "        \n",
              "  <svg xmlns=\"http://www.w3.org/2000/svg\" height=\"24px\"viewBox=\"0 0 24 24\"\n",
              "       width=\"24px\">\n",
              "    <path d=\"M0 0h24v24H0V0z\" fill=\"none\"/>\n",
              "    <path d=\"M18.56 5.44l.94 2.06.94-2.06 2.06-.94-2.06-.94-.94-2.06-.94 2.06-2.06.94zm-11 1L8.5 8.5l.94-2.06 2.06-.94-2.06-.94L8.5 2.5l-.94 2.06-2.06.94zm10 10l.94 2.06.94-2.06 2.06-.94-2.06-.94-.94-2.06-.94 2.06-2.06.94z\"/><path d=\"M17.41 7.96l-1.37-1.37c-.4-.4-.92-.59-1.43-.59-.52 0-1.04.2-1.43.59L10.3 9.45l-7.72 7.72c-.78.78-.78 2.05 0 2.83L4 21.41c.39.39.9.59 1.41.59.51 0 1.02-.2 1.41-.59l7.78-7.78 2.81-2.81c.8-.78.8-2.07 0-2.86zM5.41 20L4 18.59l7.72-7.72 1.47 1.35L5.41 20z\"/>\n",
              "  </svg>\n",
              "      </button>\n",
              "      \n",
              "  <style>\n",
              "    .colab-df-container {\n",
              "      display:flex;\n",
              "      flex-wrap:wrap;\n",
              "      gap: 12px;\n",
              "    }\n",
              "\n",
              "    .colab-df-convert {\n",
              "      background-color: #E8F0FE;\n",
              "      border: none;\n",
              "      border-radius: 50%;\n",
              "      cursor: pointer;\n",
              "      display: none;\n",
              "      fill: #1967D2;\n",
              "      height: 32px;\n",
              "      padding: 0 0 0 0;\n",
              "      width: 32px;\n",
              "    }\n",
              "\n",
              "    .colab-df-convert:hover {\n",
              "      background-color: #E2EBFA;\n",
              "      box-shadow: 0px 1px 2px rgba(60, 64, 67, 0.3), 0px 1px 3px 1px rgba(60, 64, 67, 0.15);\n",
              "      fill: #174EA6;\n",
              "    }\n",
              "\n",
              "    [theme=dark] .colab-df-convert {\n",
              "      background-color: #3B4455;\n",
              "      fill: #D2E3FC;\n",
              "    }\n",
              "\n",
              "    [theme=dark] .colab-df-convert:hover {\n",
              "      background-color: #434B5C;\n",
              "      box-shadow: 0px 1px 3px 1px rgba(0, 0, 0, 0.15);\n",
              "      filter: drop-shadow(0px 1px 2px rgba(0, 0, 0, 0.3));\n",
              "      fill: #FFFFFF;\n",
              "    }\n",
              "  </style>\n",
              "\n",
              "      <script>\n",
              "        const buttonEl =\n",
              "          document.querySelector('#df-e8d75767-b7b8-4bb7-aab5-65fd304d1c41 button.colab-df-convert');\n",
              "        buttonEl.style.display =\n",
              "          google.colab.kernel.accessAllowed ? 'block' : 'none';\n",
              "\n",
              "        async function convertToInteractive(key) {\n",
              "          const element = document.querySelector('#df-e8d75767-b7b8-4bb7-aab5-65fd304d1c41');\n",
              "          const dataTable =\n",
              "            await google.colab.kernel.invokeFunction('convertToInteractive',\n",
              "                                                     [key], {});\n",
              "          if (!dataTable) return;\n",
              "\n",
              "          const docLinkHtml = 'Like what you see? Visit the ' +\n",
              "            '<a target=\"_blank\" href=https://colab.research.google.com/notebooks/data_table.ipynb>data table notebook</a>'\n",
              "            + ' to learn more about interactive tables.';\n",
              "          element.innerHTML = '';\n",
              "          dataTable['output_type'] = 'display_data';\n",
              "          await google.colab.output.renderOutput(dataTable, element);\n",
              "          const docLink = document.createElement('div');\n",
              "          docLink.innerHTML = docLinkHtml;\n",
              "          element.appendChild(docLink);\n",
              "        }\n",
              "      </script>\n",
              "    </div>\n",
              "  </div>\n",
              "  "
            ],
            "text/plain": [
              "                       name  year  selling_price  km_driven    fuel  \\\n",
              "0             Maruti 800 AC  2007          60000      70000  Petrol   \n",
              "1  Maruti Wagon R LXI Minor  2007         135000      50000  Petrol   \n",
              "2      Hyundai Verna 1.6 SX  2012         600000     100000  Diesel   \n",
              "3    Datsun RediGO T Option  2017         250000      46000  Petrol   \n",
              "4     Honda Amaze VX i-DTEC  2014         450000     141000  Diesel   \n",
              "\n",
              "  seller_type transmission         owner current_date  current_year  \\\n",
              "0  Individual       Manual   First Owner   2022-03-05          2022   \n",
              "1  Individual       Manual   First Owner   2022-03-05          2022   \n",
              "2  Individual       Manual   First Owner   2022-03-05          2022   \n",
              "3  Individual       Manual   First Owner   2022-03-05          2022   \n",
              "4  Individual       Manual  Second Owner   2022-03-05          2022   \n",
              "\n",
              "   year_of_service  \n",
              "0               15  \n",
              "1               15  \n",
              "2               10  \n",
              "3                5  \n",
              "4                8  "
            ]
          },
          "metadata": {},
          "execution_count": 132
        }
      ]
    },
    {
      "cell_type": "code",
      "source": [
        "DF = DF.set_index('name')"
      ],
      "metadata": {
        "id": "u-OgQaaisbZW"
      },
      "execution_count": 133,
      "outputs": []
    },
    {
      "cell_type": "code",
      "source": [
        "DF.head()"
      ],
      "metadata": {
        "colab": {
          "base_uri": "https://localhost:8080/",
          "height": 238
        },
        "id": "Ahy0cjV_spWc",
        "outputId": "c5093938-72c7-4f19-c8bc-6a904f725ac8"
      },
      "execution_count": 134,
      "outputs": [
        {
          "output_type": "execute_result",
          "data": {
            "text/html": [
              "\n",
              "  <div id=\"df-d0caa5db-2c14-4f5d-9fba-7b08697b0371\">\n",
              "    <div class=\"colab-df-container\">\n",
              "      <div>\n",
              "<style scoped>\n",
              "    .dataframe tbody tr th:only-of-type {\n",
              "        vertical-align: middle;\n",
              "    }\n",
              "\n",
              "    .dataframe tbody tr th {\n",
              "        vertical-align: top;\n",
              "    }\n",
              "\n",
              "    .dataframe thead th {\n",
              "        text-align: right;\n",
              "    }\n",
              "</style>\n",
              "<table border=\"1\" class=\"dataframe\">\n",
              "  <thead>\n",
              "    <tr style=\"text-align: right;\">\n",
              "      <th></th>\n",
              "      <th>year</th>\n",
              "      <th>selling_price</th>\n",
              "      <th>km_driven</th>\n",
              "      <th>fuel</th>\n",
              "      <th>seller_type</th>\n",
              "      <th>transmission</th>\n",
              "      <th>owner</th>\n",
              "      <th>current_date</th>\n",
              "      <th>current_year</th>\n",
              "      <th>year_of_service</th>\n",
              "    </tr>\n",
              "    <tr>\n",
              "      <th>name</th>\n",
              "      <th></th>\n",
              "      <th></th>\n",
              "      <th></th>\n",
              "      <th></th>\n",
              "      <th></th>\n",
              "      <th></th>\n",
              "      <th></th>\n",
              "      <th></th>\n",
              "      <th></th>\n",
              "      <th></th>\n",
              "    </tr>\n",
              "  </thead>\n",
              "  <tbody>\n",
              "    <tr>\n",
              "      <th>Maruti 800 AC</th>\n",
              "      <td>2007</td>\n",
              "      <td>60000</td>\n",
              "      <td>70000</td>\n",
              "      <td>Petrol</td>\n",
              "      <td>Individual</td>\n",
              "      <td>Manual</td>\n",
              "      <td>First Owner</td>\n",
              "      <td>2022-03-05</td>\n",
              "      <td>2022</td>\n",
              "      <td>15</td>\n",
              "    </tr>\n",
              "    <tr>\n",
              "      <th>Maruti Wagon R LXI Minor</th>\n",
              "      <td>2007</td>\n",
              "      <td>135000</td>\n",
              "      <td>50000</td>\n",
              "      <td>Petrol</td>\n",
              "      <td>Individual</td>\n",
              "      <td>Manual</td>\n",
              "      <td>First Owner</td>\n",
              "      <td>2022-03-05</td>\n",
              "      <td>2022</td>\n",
              "      <td>15</td>\n",
              "    </tr>\n",
              "    <tr>\n",
              "      <th>Hyundai Verna 1.6 SX</th>\n",
              "      <td>2012</td>\n",
              "      <td>600000</td>\n",
              "      <td>100000</td>\n",
              "      <td>Diesel</td>\n",
              "      <td>Individual</td>\n",
              "      <td>Manual</td>\n",
              "      <td>First Owner</td>\n",
              "      <td>2022-03-05</td>\n",
              "      <td>2022</td>\n",
              "      <td>10</td>\n",
              "    </tr>\n",
              "    <tr>\n",
              "      <th>Datsun RediGO T Option</th>\n",
              "      <td>2017</td>\n",
              "      <td>250000</td>\n",
              "      <td>46000</td>\n",
              "      <td>Petrol</td>\n",
              "      <td>Individual</td>\n",
              "      <td>Manual</td>\n",
              "      <td>First Owner</td>\n",
              "      <td>2022-03-05</td>\n",
              "      <td>2022</td>\n",
              "      <td>5</td>\n",
              "    </tr>\n",
              "    <tr>\n",
              "      <th>Honda Amaze VX i-DTEC</th>\n",
              "      <td>2014</td>\n",
              "      <td>450000</td>\n",
              "      <td>141000</td>\n",
              "      <td>Diesel</td>\n",
              "      <td>Individual</td>\n",
              "      <td>Manual</td>\n",
              "      <td>Second Owner</td>\n",
              "      <td>2022-03-05</td>\n",
              "      <td>2022</td>\n",
              "      <td>8</td>\n",
              "    </tr>\n",
              "  </tbody>\n",
              "</table>\n",
              "</div>\n",
              "      <button class=\"colab-df-convert\" onclick=\"convertToInteractive('df-d0caa5db-2c14-4f5d-9fba-7b08697b0371')\"\n",
              "              title=\"Convert this dataframe to an interactive table.\"\n",
              "              style=\"display:none;\">\n",
              "        \n",
              "  <svg xmlns=\"http://www.w3.org/2000/svg\" height=\"24px\"viewBox=\"0 0 24 24\"\n",
              "       width=\"24px\">\n",
              "    <path d=\"M0 0h24v24H0V0z\" fill=\"none\"/>\n",
              "    <path d=\"M18.56 5.44l.94 2.06.94-2.06 2.06-.94-2.06-.94-.94-2.06-.94 2.06-2.06.94zm-11 1L8.5 8.5l.94-2.06 2.06-.94-2.06-.94L8.5 2.5l-.94 2.06-2.06.94zm10 10l.94 2.06.94-2.06 2.06-.94-2.06-.94-.94-2.06-.94 2.06-2.06.94z\"/><path d=\"M17.41 7.96l-1.37-1.37c-.4-.4-.92-.59-1.43-.59-.52 0-1.04.2-1.43.59L10.3 9.45l-7.72 7.72c-.78.78-.78 2.05 0 2.83L4 21.41c.39.39.9.59 1.41.59.51 0 1.02-.2 1.41-.59l7.78-7.78 2.81-2.81c.8-.78.8-2.07 0-2.86zM5.41 20L4 18.59l7.72-7.72 1.47 1.35L5.41 20z\"/>\n",
              "  </svg>\n",
              "      </button>\n",
              "      \n",
              "  <style>\n",
              "    .colab-df-container {\n",
              "      display:flex;\n",
              "      flex-wrap:wrap;\n",
              "      gap: 12px;\n",
              "    }\n",
              "\n",
              "    .colab-df-convert {\n",
              "      background-color: #E8F0FE;\n",
              "      border: none;\n",
              "      border-radius: 50%;\n",
              "      cursor: pointer;\n",
              "      display: none;\n",
              "      fill: #1967D2;\n",
              "      height: 32px;\n",
              "      padding: 0 0 0 0;\n",
              "      width: 32px;\n",
              "    }\n",
              "\n",
              "    .colab-df-convert:hover {\n",
              "      background-color: #E2EBFA;\n",
              "      box-shadow: 0px 1px 2px rgba(60, 64, 67, 0.3), 0px 1px 3px 1px rgba(60, 64, 67, 0.15);\n",
              "      fill: #174EA6;\n",
              "    }\n",
              "\n",
              "    [theme=dark] .colab-df-convert {\n",
              "      background-color: #3B4455;\n",
              "      fill: #D2E3FC;\n",
              "    }\n",
              "\n",
              "    [theme=dark] .colab-df-convert:hover {\n",
              "      background-color: #434B5C;\n",
              "      box-shadow: 0px 1px 3px 1px rgba(0, 0, 0, 0.15);\n",
              "      filter: drop-shadow(0px 1px 2px rgba(0, 0, 0, 0.3));\n",
              "      fill: #FFFFFF;\n",
              "    }\n",
              "  </style>\n",
              "\n",
              "      <script>\n",
              "        const buttonEl =\n",
              "          document.querySelector('#df-d0caa5db-2c14-4f5d-9fba-7b08697b0371 button.colab-df-convert');\n",
              "        buttonEl.style.display =\n",
              "          google.colab.kernel.accessAllowed ? 'block' : 'none';\n",
              "\n",
              "        async function convertToInteractive(key) {\n",
              "          const element = document.querySelector('#df-d0caa5db-2c14-4f5d-9fba-7b08697b0371');\n",
              "          const dataTable =\n",
              "            await google.colab.kernel.invokeFunction('convertToInteractive',\n",
              "                                                     [key], {});\n",
              "          if (!dataTable) return;\n",
              "\n",
              "          const docLinkHtml = 'Like what you see? Visit the ' +\n",
              "            '<a target=\"_blank\" href=https://colab.research.google.com/notebooks/data_table.ipynb>data table notebook</a>'\n",
              "            + ' to learn more about interactive tables.';\n",
              "          element.innerHTML = '';\n",
              "          dataTable['output_type'] = 'display_data';\n",
              "          await google.colab.output.renderOutput(dataTable, element);\n",
              "          const docLink = document.createElement('div');\n",
              "          docLink.innerHTML = docLinkHtml;\n",
              "          element.appendChild(docLink);\n",
              "        }\n",
              "      </script>\n",
              "    </div>\n",
              "  </div>\n",
              "  "
            ],
            "text/plain": [
              "                          year  selling_price  km_driven    fuel seller_type  \\\n",
              "name                                                                           \n",
              "Maruti 800 AC             2007          60000      70000  Petrol  Individual   \n",
              "Maruti Wagon R LXI Minor  2007         135000      50000  Petrol  Individual   \n",
              "Hyundai Verna 1.6 SX      2012         600000     100000  Diesel  Individual   \n",
              "Datsun RediGO T Option    2017         250000      46000  Petrol  Individual   \n",
              "Honda Amaze VX i-DTEC     2014         450000     141000  Diesel  Individual   \n",
              "\n",
              "                         transmission         owner current_date  \\\n",
              "name                                                               \n",
              "Maruti 800 AC                  Manual   First Owner   2022-03-05   \n",
              "Maruti Wagon R LXI Minor       Manual   First Owner   2022-03-05   \n",
              "Hyundai Verna 1.6 SX           Manual   First Owner   2022-03-05   \n",
              "Datsun RediGO T Option         Manual   First Owner   2022-03-05   \n",
              "Honda Amaze VX i-DTEC          Manual  Second Owner   2022-03-05   \n",
              "\n",
              "                          current_year  year_of_service  \n",
              "name                                                     \n",
              "Maruti 800 AC                     2022               15  \n",
              "Maruti Wagon R LXI Minor          2022               15  \n",
              "Hyundai Verna 1.6 SX              2022               10  \n",
              "Datsun RediGO T Option            2022                5  \n",
              "Honda Amaze VX i-DTEC             2022                8  "
            ]
          },
          "metadata": {},
          "execution_count": 134
        }
      ]
    },
    {
      "cell_type": "code",
      "source": [
        "cor = DF.corr()"
      ],
      "metadata": {
        "id": "D1YT5OhwWlNj"
      },
      "execution_count": 155,
      "outputs": []
    },
    {
      "cell_type": "code",
      "source": [
        "cor.selling_price.sort_values(ascending=False)"
      ],
      "metadata": {
        "colab": {
          "base_uri": "https://localhost:8080/"
        },
        "id": "T0UtuxL4XDCe",
        "outputId": "d799340a-9198-4951-f281-10affff83235"
      },
      "execution_count": 156,
      "outputs": [
        {
          "output_type": "execute_result",
          "data": {
            "text/plain": [
              "selling_price      1.000000\n",
              "year               0.413932\n",
              "km_driven         -0.192298\n",
              "year_of_service   -0.413932\n",
              "current_year            NaN\n",
              "Name: selling_price, dtype: float64"
            ]
          },
          "metadata": {},
          "execution_count": 156
        }
      ]
    },
    {
      "cell_type": "markdown",
      "source": [
        "As we found that there we few instances of name with 1 or 2 values only, so that would create a problem while training and testing as after the random sampling and splitting those single instances would either go to train set or test set. So, we are converting this 'name' column to the index for this dataframe"
      ],
      "metadata": {
        "id": "OUhJ6vp4vAEM"
      }
    },
    {
      "cell_type": "markdown",
      "source": [
        "We can do some graph plotting using this pandas dataframe for our ease of work"
      ],
      "metadata": {
        "id": "hU90FcfpyNwY"
      }
    },
    {
      "cell_type": "code",
      "source": [
        "import matplotlib.pyplot as plt\n",
        "import seaborn as sns"
      ],
      "metadata": {
        "id": "5cPm9ZxuyMox"
      },
      "execution_count": 135,
      "outputs": []
    },
    {
      "cell_type": "code",
      "source": [
        "sns.distplot(x=DF['km_driven'], bins=20, kde=True)"
      ],
      "metadata": {
        "colab": {
          "base_uri": "https://localhost:8080/",
          "height": 348
        },
        "id": "-NvKupeZz7Kh",
        "outputId": "76ba0ffa-48cd-47d1-903c-790af749112d"
      },
      "execution_count": 136,
      "outputs": [
        {
          "output_type": "stream",
          "name": "stderr",
          "text": [
            "/usr/local/lib/python3.7/dist-packages/seaborn/distributions.py:2619: FutureWarning: `distplot` is a deprecated function and will be removed in a future version. Please adapt your code to use either `displot` (a figure-level function with similar flexibility) or `histplot` (an axes-level function for histograms).\n",
            "  warnings.warn(msg, FutureWarning)\n"
          ]
        },
        {
          "output_type": "execute_result",
          "data": {
            "text/plain": [
              "<matplotlib.axes._subplots.AxesSubplot at 0x7f34a366ea50>"
            ]
          },
          "metadata": {},
          "execution_count": 136
        },
        {
          "output_type": "display_data",
          "data": {
            "image/png": "[encoded data removed]",
            "text/plain": [
              "<Figure size 432x288 with 1 Axes>"
            ]
          },
          "metadata": {
            "needs_background": "light"
          }
        }
      ]
    },
    {
      "cell_type": "code",
      "source": [
        "sns.boxplot(x='km_driven',data=DF)"
      ],
      "metadata": {
        "colab": {
          "base_uri": "https://localhost:8080/",
          "height": 297
        },
        "id": "ehQw1z0l-V0w",
        "outputId": "27c56c02-53d6-4fd4-f676-079c8aa99383"
      },
      "execution_count": 137,
      "outputs": [
        {
          "output_type": "execute_result",
          "data": {
            "text/plain": [
              "<matplotlib.axes._subplots.AxesSubplot at 0x7f34a34bd450>"
            ]
          },
          "metadata": {},
          "execution_count": 137
        },
        {
          "output_type": "display_data",
          "data": {
            "image/png": "[encoded data removed]",
            "text/plain": [
              "<Figure size 432x288 with 1 Axes>"
            ]
          },
          "metadata": {
            "needs_background": "light"
          }
        }
      ]
    },
    {
      "cell_type": "code",
      "source": [
        "sns.boxplot(x='year_of_service', data=DF)"
      ],
      "metadata": {
        "colab": {
          "base_uri": "https://localhost:8080/",
          "height": 297
        },
        "id": "XKDD1VRSTDKQ",
        "outputId": "8ea41215-d243-4e91-b141-1a9a33d53f09"
      },
      "execution_count": 147,
      "outputs": [
        {
          "output_type": "execute_result",
          "data": {
            "text/plain": [
              "<matplotlib.axes._subplots.AxesSubplot at 0x7f34a3a84e50>"
            ]
          },
          "metadata": {},
          "execution_count": 147
        },
        {
          "output_type": "display_data",
          "data": {
            "image/png": "[encoded data removed]",
            "text/plain": [
              "<Figure size 432x288 with 1 Axes>"
            ]
          },
          "metadata": {
            "needs_background": "light"
          }
        }
      ]
    },
    {
      "cell_type": "code",
      "source": [
        "#DF['km_driven'].plot(kind='hist', bins=25)"
      ],
      "metadata": {
        "id": "07cBIByp-u6F"
      },
      "execution_count": 110,
      "outputs": []
    },
    {
      "cell_type": "code",
      "source": [
        "sns.regplot(x='year', y='selling_price', data=DF)"
      ],
      "metadata": {
        "colab": {
          "base_uri": "https://localhost:8080/",
          "height": 307
        },
        "id": "m58UDuKvAMHG",
        "outputId": "845a72b1-f1d4-48af-914e-1350fca14ad2"
      },
      "execution_count": 143,
      "outputs": [
        {
          "output_type": "execute_result",
          "data": {
            "text/plain": [
              "<matplotlib.axes._subplots.AxesSubplot at 0x7f34a081dd10>"
            ]
          },
          "metadata": {},
          "execution_count": 143
        },
        {
          "output_type": "display_data",
          "data": {
            "image/png": "[encoded data removed]",
            "text/plain": [
              "<Figure size 432x288 with 1 Axes>"
            ]
          },
          "metadata": {
            "needs_background": "light"
          }
        }
      ]
    },
    {
      "cell_type": "code",
      "source": [
        "plt.figure()\n",
        "DF.groupby('year')['selling_price'].mean().plot(kind='bar')"
      ],
      "metadata": {
        "colab": {
          "base_uri": "https://localhost:8080/",
          "height": 323
        },
        "id": "7QhnvKBBAKws",
        "outputId": "bafc3fa2-8035-4013-c890-c9dbcb672887"
      },
      "execution_count": 114,
      "outputs": [
        {
          "output_type": "execute_result",
          "data": {
            "text/plain": [
              "<matplotlib.axes._subplots.AxesSubplot at 0x7f34a3955850>"
            ]
          },
          "metadata": {},
          "execution_count": 114
        },
        {
          "output_type": "display_data",
          "data": {
            "image/png": "[encoded data removed]",
            "text/plain": [
              "<Figure size 432x288 with 1 Axes>"
            ]
          },
          "metadata": {
            "needs_background": "light"
          }
        }
      ]
    },
    {
      "cell_type": "code",
      "source": [
        "sns.regplot(x='year_of_service', y='selling_price', data=DF)"
      ],
      "metadata": {
        "colab": {
          "base_uri": "https://localhost:8080/",
          "height": 308
        },
        "id": "yyQXsBHNRiJo",
        "outputId": "bc343f89-e9f6-46dd-a993-0d651b781422"
      },
      "execution_count": 144,
      "outputs": [
        {
          "output_type": "execute_result",
          "data": {
            "text/plain": [
              "<matplotlib.axes._subplots.AxesSubplot at 0x7f34a0785890>"
            ]
          },
          "metadata": {},
          "execution_count": 144
        },
        {
          "output_type": "display_data",
          "data": {
            "image/png": "[encoded data removed]",
            "text/plain": [
              "<Figure size 432x288 with 1 Axes>"
            ]
          },
          "metadata": {
            "needs_background": "light"
          }
        }
      ]
    },
    {
      "cell_type": "markdown",
      "source": [
        "It shows that with increasing year the selling price of a car has been increased gradually or in other words, the car with highest year of service has lowest selling price i.e, the oldest car has lowest selling price"
      ],
      "metadata": {
        "id": "sZUBlaHySZ1r"
      }
    },
    {
      "cell_type": "code",
      "source": [
        "plt.figure()\n",
        "DF.groupby('year_of_service')['selling_price'].mean().plot(kind='bar')"
      ],
      "metadata": {
        "colab": {
          "base_uri": "https://localhost:8080/",
          "height": 311
        },
        "id": "Yllwn3XlTQoJ",
        "outputId": "3b855065-64b6-4886-90b0-c69d85033dab"
      },
      "execution_count": 148,
      "outputs": [
        {
          "output_type": "execute_result",
          "data": {
            "text/plain": [
              "<matplotlib.axes._subplots.AxesSubplot at 0x7f34a3cc3450>"
            ]
          },
          "metadata": {},
          "execution_count": 148
        },
        {
          "output_type": "display_data",
          "data": {
            "image/png": "[encoded data removed]",
            "text/plain": [
              "<Figure size 432x288 with 1 Axes>"
            ]
          },
          "metadata": {
            "needs_background": "light"
          }
        }
      ]
    },
    {
      "cell_type": "code",
      "source": [
        "sns.scatterplot(x='km_driven', y='selling_price',data=DF )"
      ],
      "metadata": {
        "colab": {
          "base_uri": "https://localhost:8080/",
          "height": 308
        },
        "id": "dxn2SgzTRwL0",
        "outputId": "43df0458-d811-4583-dcb6-63555365fbbd"
      },
      "execution_count": 146,
      "outputs": [
        {
          "output_type": "execute_result",
          "data": {
            "text/plain": [
              "<matplotlib.axes._subplots.AxesSubplot at 0x7f34a323cad0>"
            ]
          },
          "metadata": {},
          "execution_count": 146
        },
        {
          "output_type": "display_data",
          "data": {
            "image/png": "[encoded data removed]",
            "text/plain": [
              "<Figure size 432x288 with 1 Axes>"
            ]
          },
          "metadata": {
            "needs_background": "light"
          }
        }
      ]
    },
    {
      "cell_type": "code",
      "source": [
        "plt.figure()\n",
        "DF.groupby('fuel')['selling_price'].mean().plot(kind='bar')"
      ],
      "metadata": {
        "colab": {
          "base_uri": "https://localhost:8080/",
          "height": 321
        },
        "id": "dybfbKHBzXz_",
        "outputId": "37c7421e-ba9d-4b3e-a14f-6d654768957f"
      },
      "execution_count": 138,
      "outputs": [
        {
          "output_type": "execute_result",
          "data": {
            "text/plain": [
              "<matplotlib.axes._subplots.AxesSubplot at 0x7f34a3475d50>"
            ]
          },
          "metadata": {},
          "execution_count": 138
        },
        {
          "output_type": "display_data",
          "data": {
            "image/png": "[encoded data removed]",
            "text/plain": [
              "<Figure size 432x288 with 1 Axes>"
            ]
          },
          "metadata": {
            "needs_background": "light"
          }
        }
      ]
    },
    {
      "cell_type": "markdown",
      "source": [
        "The above graph says that Diesel car has the highest mean selling price"
      ],
      "metadata": {
        "id": "tgeMMoowzb0B"
      }
    },
    {
      "cell_type": "code",
      "source": [
        "plt.figure()\n",
        "DF.groupby('owner')['selling_price'].mean().plot(kind='bar')"
      ],
      "metadata": {
        "colab": {
          "base_uri": "https://localhost:8080/",
          "height": 410
        },
        "id": "f8R2aK2iytdz",
        "outputId": "82082361-3c57-4685-b173-45b495b81090"
      },
      "execution_count": 139,
      "outputs": [
        {
          "output_type": "execute_result",
          "data": {
            "text/plain": [
              "<matplotlib.axes._subplots.AxesSubplot at 0x7f34a3257310>"
            ]
          },
          "metadata": {},
          "execution_count": 139
        },
        {
          "output_type": "display_data",
          "data": {
            "image/png": "[encoded data removed]",
            "text/plain": [
              "<Figure size 432x288 with 1 Axes>"
            ]
          },
          "metadata": {
            "needs_background": "light"
          }
        }
      ]
    },
    {
      "cell_type": "markdown",
      "source": [
        "Inference: From the above graph we can say that Test Drive Car has the highest average selling price"
      ],
      "metadata": {
        "id": "MZecPAI4y_q5"
      }
    },
    {
      "cell_type": "code",
      "source": [
        "plt.figure()\n",
        "DF.groupby('transmission')['selling_price'].mean().plot(kind='bar')"
      ],
      "metadata": {
        "colab": {
          "base_uri": "https://localhost:8080/",
          "height": 348
        },
        "id": "CFhO0deMy4Bg",
        "outputId": "444c168a-f50f-435a-f93c-43ae6cfe346b"
      },
      "execution_count": 83,
      "outputs": [
        {
          "output_type": "execute_result",
          "data": {
            "text/plain": [
              "<matplotlib.axes._subplots.AxesSubplot at 0x7f34a6838e90>"
            ]
          },
          "metadata": {},
          "execution_count": 83
        },
        {
          "output_type": "display_data",
          "data": {
            "image/png": "[encoded data removed]",
            "text/plain": [
              "<Figure size 432x288 with 1 Axes>"
            ]
          },
          "metadata": {
            "needs_background": "light"
          }
        }
      ]
    },
    {
      "cell_type": "markdown",
      "source": [
        "In the above graph we can see that Automatic car has the highest average selling price"
      ],
      "metadata": {
        "id": "I3DRffZmzJoU"
      }
    },
    {
      "cell_type": "code",
      "source": [
        "#from datetime import date"
      ],
      "metadata": {
        "id": "k_6oex3A7bDA"
      },
      "execution_count": 115,
      "outputs": []
    },
    {
      "cell_type": "code",
      "source": [
        "new_data.show(5)"
      ],
      "metadata": {
        "colab": {
          "base_uri": "https://localhost:8080/"
        },
        "id": "yF3NxKxKZhaj",
        "outputId": "60f8b7cf-03f7-414d-b818-b24cea4c865e"
      },
      "execution_count": 161,
      "outputs": [
        {
          "output_type": "stream",
          "name": "stdout",
          "text": [
            "+--------------------+----+-------------+---------+------+-----------+------------+------------+------------+------------+---------------+\n",
            "|                name|year|selling_price|km_driven|  fuel|seller_type|transmission|       owner|current_date|current_year|year_of_service|\n",
            "+--------------------+----+-------------+---------+------+-----------+------------+------------+------------+------------+---------------+\n",
            "|       Maruti 800 AC|2007|        60000|    70000|Petrol| Individual|      Manual| First Owner|  2022-03-05|        2022|             15|\n",
            "|Maruti Wagon R LX...|2007|       135000|    50000|Petrol| Individual|      Manual| First Owner|  2022-03-05|        2022|             15|\n",
            "|Hyundai Verna 1.6 SX|2012|       600000|   100000|Diesel| Individual|      Manual| First Owner|  2022-03-05|        2022|             10|\n",
            "|Datsun RediGO T O...|2017|       250000|    46000|Petrol| Individual|      Manual| First Owner|  2022-03-05|        2022|              5|\n",
            "|Honda Amaze VX i-...|2014|       450000|   141000|Diesel| Individual|      Manual|Second Owner|  2022-03-05|        2022|              8|\n",
            "+--------------------+----+-------------+---------+------+-----------+------------+------------+------------+------------+---------------+\n",
            "only showing top 5 rows\n",
            "\n"
          ]
        }
      ]
    },
    {
      "cell_type": "code",
      "source": [
        "new_data = spark.createDataFrame(DF.rename_axis('name').reset_index() )\n",
        "#spark.createDataFrame(data_clean.rename_axis('name').reset_index())"
      ],
      "metadata": {
        "id": "NFpoNNBG5Qbh"
      },
      "execution_count": 278,
      "outputs": []
    },
    {
      "cell_type": "code",
      "source": [
        "new_data.show()"
      ],
      "metadata": {
        "colab": {
          "base_uri": "https://localhost:8080/"
        },
        "id": "AwqK3nzG5wDA",
        "outputId": "25d583ee-1923-4e79-8124-93f6535fb02b"
      },
      "execution_count": 279,
      "outputs": [
        {
          "output_type": "stream",
          "name": "stdout",
          "text": [
            "+--------------------+----+-------------+---------+------+-----------+------------+------------+------------+------------+---------------+\n",
            "|                name|year|selling_price|km_driven|  fuel|seller_type|transmission|       owner|current_date|current_year|year_of_service|\n",
            "+--------------------+----+-------------+---------+------+-----------+------------+------------+------------+------------+---------------+\n",
            "|       Maruti 800 AC|2007|        60000|    70000|Petrol| Individual|      Manual| First Owner|  2022-03-05|        2022|             15|\n",
            "|Maruti Wagon R LX...|2007|       135000|    50000|Petrol| Individual|      Manual| First Owner|  2022-03-05|        2022|             15|\n",
            "|Hyundai Verna 1.6 SX|2012|       600000|   100000|Diesel| Individual|      Manual| First Owner|  2022-03-05|        2022|             10|\n",
            "|Datsun RediGO T O...|2017|       250000|    46000|Petrol| Individual|      Manual| First Owner|  2022-03-05|        2022|              5|\n",
            "|Honda Amaze VX i-...|2014|       450000|   141000|Diesel| Individual|      Manual|Second Owner|  2022-03-05|        2022|              8|\n",
            "|Maruti Alto LX BSIII|2007|       140000|   125000|Petrol| Individual|      Manual| First Owner|  2022-03-05|        2022|             15|\n",
            "|Hyundai Xcent 1.2...|2016|       550000|    25000|Petrol| Individual|      Manual| First Owner|  2022-03-05|        2022|              6|\n",
            "|Tata Indigo Grand...|2014|       240000|    60000|Petrol| Individual|      Manual|Second Owner|  2022-03-05|        2022|              8|\n",
            "|Hyundai Creta 1.6...|2015|       850000|    25000|Petrol| Individual|      Manual| First Owner|  2022-03-05|        2022|              7|\n",
            "|Maruti Celerio Gr...|2017|       365000|    78000|   CNG| Individual|      Manual| First Owner|  2022-03-05|        2022|              5|\n",
            "|Chevrolet Sail 1....|2015|       260000|    35000|Petrol| Individual|      Manual| First Owner|  2022-03-05|        2022|              7|\n",
            "|Tata Indigo Grand...|2014|       250000|   100000|Petrol| Individual|      Manual| First Owner|  2022-03-05|        2022|              8|\n",
            "|Toyota Corolla Al...|2018|      1650000|    25000|Petrol|     Dealer|   Automatic| First Owner|  2022-03-05|        2022|              4|\n",
            "|       Maruti 800 AC|2007|        60000|    70000|Petrol| Individual|      Manual| First Owner|  2022-03-05|        2022|             15|\n",
            "|Maruti Wagon R LX...|2007|       135000|    50000|Petrol| Individual|      Manual| First Owner|  2022-03-05|        2022|             15|\n",
            "|Hyundai Verna 1.6 SX|2012|       600000|   100000|Diesel| Individual|      Manual| First Owner|  2022-03-05|        2022|             10|\n",
            "|Datsun RediGO T O...|2017|       250000|    46000|Petrol| Individual|      Manual| First Owner|  2022-03-05|        2022|              5|\n",
            "|Honda Amaze VX i-...|2014|       450000|   141000|Diesel| Individual|      Manual|Second Owner|  2022-03-05|        2022|              8|\n",
            "|Maruti Alto LX BSIII|2007|       140000|   125000|Petrol| Individual|      Manual| First Owner|  2022-03-05|        2022|             15|\n",
            "|Hyundai Xcent 1.2...|2016|       550000|    25000|Petrol| Individual|      Manual| First Owner|  2022-03-05|        2022|              6|\n",
            "+--------------------+----+-------------+---------+------+-----------+------------+------------+------------+------------+---------------+\n",
            "only showing top 20 rows\n",
            "\n"
          ]
        }
      ]
    },
    {
      "cell_type": "code",
      "source": [
        "new_data.select('year_of_service').distinct().rdd.map(lambda r: r[0]).collect()"
      ],
      "metadata": {
        "colab": {
          "base_uri": "https://localhost:8080/"
        },
        "id": "Uqqd3Oxkv04i",
        "outputId": "3602946d-5d65-4968-fe6c-ee5ae63f3f53"
      },
      "execution_count": 280,
      "outputs": [
        {
          "output_type": "execute_result",
          "data": {
            "text/plain": [
              "[26,\n",
              " 19,\n",
              " 22,\n",
              " 7,\n",
              " 25,\n",
              " 6,\n",
              " 9,\n",
              " 27,\n",
              " 17,\n",
              " 5,\n",
              " 10,\n",
              " 3,\n",
              " 12,\n",
              " 8,\n",
              " 11,\n",
              " 2,\n",
              " 4,\n",
              " 13,\n",
              " 18,\n",
              " 14,\n",
              " 21,\n",
              " 15,\n",
              " 30,\n",
              " 23,\n",
              " 20,\n",
              " 16,\n",
              " 24]"
            ]
          },
          "metadata": {},
          "execution_count": 280
        }
      ]
    },
    {
      "cell_type": "markdown",
      "source": [
        "Above we can see that the year_of_service column doesn't have any single instance. If it would have any value 1 then it would have to be deleted."
      ],
      "metadata": {
        "id": "1JI80ghRVbsH"
      }
    },
    {
      "cell_type": "markdown",
      "source": [
        " Checking For Correlation"
      ],
      "metadata": {
        "id": "BUpaXw9ldmmC"
      }
    },
    {
      "cell_type": "code",
      "source": [
        "from pyspark.sql.functions import corr"
      ],
      "metadata": {
        "id": "gq4eAsMDv7DM"
      },
      "execution_count": 281,
      "outputs": []
    },
    {
      "cell_type": "code",
      "source": [
        "new_data.corr('km_driven','selling_price')"
      ],
      "metadata": {
        "colab": {
          "base_uri": "https://localhost:8080/"
        },
        "id": "9MHraEhpv8cA",
        "outputId": "2df5d752-86a5-476f-e509-58dfdd46923e"
      },
      "execution_count": 282,
      "outputs": [
        {
          "output_type": "execute_result",
          "data": {
            "text/plain": [
              "-0.19229829804919749"
            ]
          },
          "metadata": {},
          "execution_count": 282
        }
      ]
    },
    {
      "cell_type": "code",
      "source": [
        "new_data.corr('year_of_service','selling_price')"
      ],
      "metadata": {
        "colab": {
          "base_uri": "https://localhost:8080/"
        },
        "id": "MrJs_CXiwCvR",
        "outputId": "e7057eaa-036c-4e55-a264-c1ce90d43fd7"
      },
      "execution_count": 283,
      "outputs": [
        {
          "output_type": "execute_result",
          "data": {
            "text/plain": [
              "-0.41393195880109773"
            ]
          },
          "metadata": {},
          "execution_count": 283
        }
      ]
    },
    {
      "cell_type": "code",
      "source": [
        "type(new_data)"
      ],
      "metadata": {
        "colab": {
          "base_uri": "https://localhost:8080/"
        },
        "id": "mef1qsqfZDCB",
        "outputId": "1b7f0547-4397-466e-c275-5b4cf27f2df8"
      },
      "execution_count": 284,
      "outputs": [
        {
          "output_type": "execute_result",
          "data": {
            "text/plain": [
              "pyspark.sql.dataframe.DataFrame"
            ]
          },
          "metadata": {},
          "execution_count": 284
        }
      ]
    },
    {
      "cell_type": "markdown",
      "source": [
        "Removing Unnecessary Columns:\n",
        "The 'name' column doesn't seem to be necessary. So removing that. As well as the 'current_year' , 'current_date', 'year'"
      ],
      "metadata": {
        "id": "8w6dyy3zYF3e"
      }
    },
    {
      "cell_type": "code",
      "source": [
        "new_data = new_data.drop(\"current_date\", \"current_year\", \"name\",\"year\")"
      ],
      "metadata": {
        "id": "6Vcx8UP_YFAL"
      },
      "execution_count": 285,
      "outputs": []
    },
    {
      "cell_type": "code",
      "source": [
        "new_data.show(5)"
      ],
      "metadata": {
        "colab": {
          "base_uri": "https://localhost:8080/"
        },
        "id": "tIHtuS0edppE",
        "outputId": "d10901ba-8c35-4df3-e880-a127c5cd65a6"
      },
      "execution_count": 287,
      "outputs": [
        {
          "output_type": "stream",
          "name": "stdout",
          "text": [
            "+-------------+---------+------+-----------+------------+------------+---------------+\n",
            "|selling_price|km_driven|  fuel|seller_type|transmission|       owner|year_of_service|\n",
            "+-------------+---------+------+-----------+------------+------------+---------------+\n",
            "|        60000|    70000|Petrol| Individual|      Manual| First Owner|             15|\n",
            "|       135000|    50000|Petrol| Individual|      Manual| First Owner|             15|\n",
            "|       600000|   100000|Diesel| Individual|      Manual| First Owner|             10|\n",
            "|       250000|    46000|Petrol| Individual|      Manual| First Owner|              5|\n",
            "|       450000|   141000|Diesel| Individual|      Manual|Second Owner|              8|\n",
            "+-------------+---------+------+-----------+------------+------------+---------------+\n",
            "only showing top 5 rows\n",
            "\n"
          ]
        }
      ]
    },
    {
      "cell_type": "code",
      "source": [
        "from pyspark.ml.feature import StringIndexer"
      ],
      "metadata": {
        "id": "2vAL7D7KpNvF"
      },
      "execution_count": 288,
      "outputs": []
    },
    {
      "cell_type": "code",
      "source": [
        "from pyspark.ml.feature import OneHotEncoder"
      ],
      "metadata": {
        "id": "Cqj8XJfz5i5V"
      },
      "execution_count": 351,
      "outputs": []
    },
    {
      "cell_type": "code",
      "source": [
        "from pyspark.ml.feature import VectorAssembler"
      ],
      "metadata": {
        "id": "ztLQku_j5-m4"
      },
      "execution_count": 352,
      "outputs": []
    },
    {
      "cell_type": "code",
      "source": [
        "type_indexer = StringIndexer(inputCol=\"fuel\", outputCol=\"fuel_indexer\").fit(new_data)\n",
        "new_data = type_indexer.transform(new_data)"
      ],
      "metadata": {
        "id": "t1Vu44XxqTk8"
      },
      "execution_count": 289,
      "outputs": []
    },
    {
      "cell_type": "code",
      "source": [
        "type_encoder = OneHotEncoder(inputCol=\"fuel_indexer\", outputCol=\"fuel_Vector\").fit(new_data)\n",
        "new_data = type_encoder.transform(new_data)"
      ],
      "metadata": {
        "id": "rfwfyUCAqnvv"
      },
      "execution_count": 290,
      "outputs": []
    },
    {
      "cell_type": "code",
      "source": [
        "type_indexer = StringIndexer(inputCol=\"seller_type\", outputCol=\"seller_type_indexer\").fit(new_data)\n",
        "new_data = type_indexer.transform(new_data)"
      ],
      "metadata": {
        "id": "-N6gyL_psRuI"
      },
      "execution_count": 291,
      "outputs": []
    },
    {
      "cell_type": "code",
      "source": [
        "type_encoder = OneHotEncoder(inputCol=\"seller_type_indexer\", outputCol=\"seller_type_vector\").fit(new_data)\n",
        "new_data = type_encoder.transform(new_data)"
      ],
      "metadata": {
        "id": "i_TM4h08tIKk"
      },
      "execution_count": 292,
      "outputs": []
    },
    {
      "cell_type": "code",
      "source": [
        "type_indexer = StringIndexer(inputCol=\"owner\", outputCol=\"owner_indexer\").fit(new_data)\n",
        "new_data = type_indexer.transform(new_data)"
      ],
      "metadata": {
        "id": "rsI1LSYEtdas"
      },
      "execution_count": 294,
      "outputs": []
    },
    {
      "cell_type": "code",
      "source": [
        "type_encoder = OneHotEncoder(inputCol=\"owner_indexer\", outputCol=\"owner_vector\").fit(new_data)\n",
        "new_data = type_encoder.transform(new_data)"
      ],
      "metadata": {
        "id": "bz5thUZEt4j3"
      },
      "execution_count": 295,
      "outputs": []
    },
    {
      "cell_type": "code",
      "source": [
        "type_indexer = StringIndexer(inputCol=\"transmission\", outputCol=\"transmission_indexer\").fit(new_data)\n",
        "new_data = type_indexer.transform(new_data)"
      ],
      "metadata": {
        "id": "gF6ZvB8suG_5"
      },
      "execution_count": 296,
      "outputs": []
    },
    {
      "cell_type": "code",
      "source": [
        "type_encoder = OneHotEncoder(inputCol=\"transmission_indexer\", outputCol=\"transmission_vector\").fit(new_data)\n",
        "new_data = type_encoder.transform(new_data)"
      ],
      "metadata": {
        "id": "_Gz1eJSxuWji"
      },
      "execution_count": 297,
      "outputs": []
    },
    {
      "cell_type": "code",
      "source": [
        "new_data.show(3)"
      ],
      "metadata": {
        "colab": {
          "base_uri": "https://localhost:8080/"
        },
        "id": "r_Q0etnBugGJ",
        "outputId": "134e663f-fc1b-4845-e078-a215f9d75a16"
      },
      "execution_count": 298,
      "outputs": [
        {
          "output_type": "stream",
          "name": "stdout",
          "text": [
            "+-------------+---------+------+-----------+------------+-----------+---------------+------------+-------------+-------------------+------------------+-------------+-------------+--------------------+-------------------+\n",
            "|selling_price|km_driven|  fuel|seller_type|transmission|      owner|year_of_service|fuel_indexer|  fuel_Vector|seller_type_indexer|seller_type_vector|owner_indexer| owner_vector|transmission_indexer|transmission_vector|\n",
            "+-------------+---------+------+-----------+------------+-----------+---------------+------------+-------------+-------------------+------------------+-------------+-------------+--------------------+-------------------+\n",
            "|        60000|    70000|Petrol| Individual|      Manual|First Owner|             15|         1.0|(3,[1],[1.0])|                0.0|     (2,[0],[1.0])|          0.0|(4,[0],[1.0])|                 0.0|      (1,[0],[1.0])|\n",
            "|       135000|    50000|Petrol| Individual|      Manual|First Owner|             15|         1.0|(3,[1],[1.0])|                0.0|     (2,[0],[1.0])|          0.0|(4,[0],[1.0])|                 0.0|      (1,[0],[1.0])|\n",
            "|       600000|   100000|Diesel| Individual|      Manual|First Owner|             10|         0.0|(3,[0],[1.0])|                0.0|     (2,[0],[1.0])|          0.0|(4,[0],[1.0])|                 0.0|      (1,[0],[1.0])|\n",
            "+-------------+---------+------+-----------+------------+-----------+---------------+------------+-------------+-------------------+------------------+-------------+-------------+--------------------+-------------------+\n",
            "only showing top 3 rows\n",
            "\n"
          ]
        }
      ]
    },
    {
      "cell_type": "code",
      "source": [
        "new_data1 = new_data.drop(\"fuel\",\"seller_type\",\"owner\",\"transmission\")"
      ],
      "metadata": {
        "id": "Fu_mXszXummp"
      },
      "execution_count": 300,
      "outputs": []
    },
    {
      "cell_type": "code",
      "source": [
        "new_data1.show(5)"
      ],
      "metadata": {
        "colab": {
          "base_uri": "https://localhost:8080/"
        },
        "id": "NeOT9ozzvAsX",
        "outputId": "f22861d3-bef0-424f-9e69-b437d363c457"
      },
      "execution_count": 305,
      "outputs": [
        {
          "output_type": "stream",
          "name": "stdout",
          "text": [
            "+-------------+---------+---------------+------------+-------------+-------------------+------------------+-------------+-------------+--------------------+-------------------+\n",
            "|selling_price|km_driven|year_of_service|fuel_indexer|  fuel_Vector|seller_type_indexer|seller_type_vector|owner_indexer| owner_vector|transmission_indexer|transmission_vector|\n",
            "+-------------+---------+---------------+------------+-------------+-------------------+------------------+-------------+-------------+--------------------+-------------------+\n",
            "|        60000|    70000|             15|         1.0|(3,[1],[1.0])|                0.0|     (2,[0],[1.0])|          0.0|(4,[0],[1.0])|                 0.0|      (1,[0],[1.0])|\n",
            "|       135000|    50000|             15|         1.0|(3,[1],[1.0])|                0.0|     (2,[0],[1.0])|          0.0|(4,[0],[1.0])|                 0.0|      (1,[0],[1.0])|\n",
            "|       600000|   100000|             10|         0.0|(3,[0],[1.0])|                0.0|     (2,[0],[1.0])|          0.0|(4,[0],[1.0])|                 0.0|      (1,[0],[1.0])|\n",
            "|       250000|    46000|              5|         1.0|(3,[1],[1.0])|                0.0|     (2,[0],[1.0])|          0.0|(4,[0],[1.0])|                 0.0|      (1,[0],[1.0])|\n",
            "|       450000|   141000|              8|         0.0|(3,[0],[1.0])|                0.0|     (2,[0],[1.0])|          1.0|(4,[1],[1.0])|                 0.0|      (1,[0],[1.0])|\n",
            "+-------------+---------+---------------+------------+-------------+-------------------+------------------+-------------+-------------+--------------------+-------------------+\n",
            "only showing top 5 rows\n",
            "\n"
          ]
        }
      ]
    },
    {
      "cell_type": "code",
      "source": [
        "from pyspark.ml.linalg import DenseVector"
      ],
      "metadata": {
        "id": "dXdfX1BJwcMO"
      },
      "execution_count": 307,
      "outputs": []
    },
    {
      "cell_type": "code",
      "source": [
        "from pyspark.ml.feature import StandardScaler"
      ],
      "metadata": {
        "id": "HoZYLalzvMLW"
      },
      "execution_count": 302,
      "outputs": []
    },
    {
      "cell_type": "code",
      "source": [
        "input_data = new_data.rdd.map(lambda x: (x[0], DenseVector(x[1:])))"
      ],
      "metadata": {
        "id": "7TYoX5G0weht"
      },
      "execution_count": 308,
      "outputs": []
    },
    {
      "cell_type": "code",
      "source": [
        "df_assembler = VectorAssembler(inputCols=['km_driven', 'year_of_service', 'fuel_Vector', 'seller_type_vector', \n",
        "                                          'owner_vector', 'transmission_vector'], outputCol=\"features\")\n",
        "#df = df_assembler.transform(df)"
      ],
      "metadata": {
        "id": "QW-3_E01wzIO"
      },
      "execution_count": 311,
      "outputs": []
    },
    {
      "cell_type": "code",
      "source": [
        "df = df_assembler.transform(new_data1)"
      ],
      "metadata": {
        "id": "wFxmE-lAyMEa"
      },
      "execution_count": 315,
      "outputs": []
    },
    {
      "cell_type": "code",
      "source": [
        "df.show(5)"
      ],
      "metadata": {
        "colab": {
          "base_uri": "https://localhost:8080/"
        },
        "id": "8gv6HEv2zJnX",
        "outputId": "ad707f0a-4dd1-4ed5-a3c9-31dcc198dfdf"
      },
      "execution_count": 318,
      "outputs": [
        {
          "output_type": "stream",
          "name": "stdout",
          "text": [
            "+-------------+---------+---------------+------------+-------------+-------------------+------------------+-------------+-------------+--------------------+-------------------+--------------------+\n",
            "|selling_price|km_driven|year_of_service|fuel_indexer|  fuel_Vector|seller_type_indexer|seller_type_vector|owner_indexer| owner_vector|transmission_indexer|transmission_vector|            features|\n",
            "+-------------+---------+---------------+------------+-------------+-------------------+------------------+-------------+-------------+--------------------+-------------------+--------------------+\n",
            "|        60000|    70000|             15|         1.0|(3,[1],[1.0])|                0.0|     (2,[0],[1.0])|          0.0|(4,[0],[1.0])|                 0.0|      (1,[0],[1.0])|(12,[0,1,3,5,7,11...|\n",
            "|       135000|    50000|             15|         1.0|(3,[1],[1.0])|                0.0|     (2,[0],[1.0])|          0.0|(4,[0],[1.0])|                 0.0|      (1,[0],[1.0])|(12,[0,1,3,5,7,11...|\n",
            "|       600000|   100000|             10|         0.0|(3,[0],[1.0])|                0.0|     (2,[0],[1.0])|          0.0|(4,[0],[1.0])|                 0.0|      (1,[0],[1.0])|(12,[0,1,2,5,7,11...|\n",
            "|       250000|    46000|              5|         1.0|(3,[1],[1.0])|                0.0|     (2,[0],[1.0])|          0.0|(4,[0],[1.0])|                 0.0|      (1,[0],[1.0])|(12,[0,1,3,5,7,11...|\n",
            "|       450000|   141000|              8|         0.0|(3,[0],[1.0])|                0.0|     (2,[0],[1.0])|          1.0|(4,[1],[1.0])|                 0.0|      (1,[0],[1.0])|(12,[0,1,2,5,8,11...|\n",
            "+-------------+---------+---------------+------------+-------------+-------------------+------------------+-------------+-------------+--------------------+-------------------+--------------------+\n",
            "only showing top 5 rows\n",
            "\n"
          ]
        }
      ]
    },
    {
      "cell_type": "code",
      "source": [
        "df.select(['features','selling_price']).show(5)"
      ],
      "metadata": {
        "colab": {
          "base_uri": "https://localhost:8080/"
        },
        "id": "5Qwb83kHzQYZ",
        "outputId": "97fcef3b-1d19-4926-eaf3-cd7ca77cf2f6"
      },
      "execution_count": 323,
      "outputs": [
        {
          "output_type": "stream",
          "name": "stdout",
          "text": [
            "+--------------------+-------------+\n",
            "|            features|selling_price|\n",
            "+--------------------+-------------+\n",
            "|(12,[0,1,3,5,7,11...|        60000|\n",
            "|(12,[0,1,3,5,7,11...|       135000|\n",
            "|(12,[0,1,2,5,7,11...|       600000|\n",
            "|(12,[0,1,3,5,7,11...|       250000|\n",
            "|(12,[0,1,2,5,8,11...|       450000|\n",
            "+--------------------+-------------+\n",
            "only showing top 5 rows\n",
            "\n"
          ]
        }
      ]
    },
    {
      "cell_type": "code",
      "source": [
        "from pyspark.ml.feature import StandardScaler"
      ],
      "metadata": {
        "id": "nD-ws_oe0PQF"
      },
      "execution_count": 324,
      "outputs": []
    },
    {
      "cell_type": "code",
      "source": [
        "# Initialize the `standardScaler`\n",
        "standardScaler = StandardScaler(inputCol=\"features\", outputCol=\"features_scaled\")"
      ],
      "metadata": {
        "id": "xr24sVwy00ut"
      },
      "execution_count": 325,
      "outputs": []
    },
    {
      "cell_type": "code",
      "source": [
        "# Fit the DataFrame to the scaler\n",
        "scaler = standardScaler.fit(df)"
      ],
      "metadata": {
        "id": "EZtxmtEs08py"
      },
      "execution_count": 326,
      "outputs": []
    },
    {
      "cell_type": "code",
      "source": [
        "# Transform the data in `df` with the scaler\n",
        "scaled_df = scaler.transform(df)"
      ],
      "metadata": {
        "id": "-3j4Oxn41GVE"
      },
      "execution_count": 328,
      "outputs": []
    },
    {
      "cell_type": "code",
      "source": [
        "scaled_df.take(2)"
      ],
      "metadata": {
        "colab": {
          "base_uri": "https://localhost:8080/"
        },
        "id": "r4rOo6zi1Nfz",
        "outputId": "38f1d13d-ecb9-4bf2-f9a0-5ad1aab2d647"
      },
      "execution_count": 329,
      "outputs": [
        {
          "output_type": "execute_result",
          "data": {
            "text/plain": [
              "[Row(selling_price=60000, km_driven=70000, year_of_service=15, fuel_indexer=1.0, fuel_Vector=SparseVector(3, {1: 1.0}), seller_type_indexer=0.0, seller_type_vector=SparseVector(2, {0: 1.0}), owner_indexer=0.0, owner_vector=SparseVector(4, {0: 1.0}), transmission_indexer=0.0, transmission_vector=SparseVector(1, {0: 1.0}), features=SparseVector(12, {0: 70000.0, 1: 15.0, 3: 1.0, 5: 1.0, 7: 1.0, 11: 1.0}), features_scaled=SparseVector(12, {0: 1.5006, 1: 3.5592, 3: 2.0002, 5: 2.3019, 7: 2.1001, 11: 3.2893})),\n",
              " Row(selling_price=135000, km_driven=50000, year_of_service=15, fuel_indexer=1.0, fuel_Vector=SparseVector(3, {1: 1.0}), seller_type_indexer=0.0, seller_type_vector=SparseVector(2, {0: 1.0}), owner_indexer=0.0, owner_vector=SparseVector(4, {0: 1.0}), transmission_indexer=0.0, transmission_vector=SparseVector(1, {0: 1.0}), features=SparseVector(12, {0: 50000.0, 1: 15.0, 3: 1.0, 5: 1.0, 7: 1.0, 11: 1.0}), features_scaled=SparseVector(12, {0: 1.0718, 1: 3.5592, 3: 2.0002, 5: 2.3019, 7: 2.1001, 11: 3.2893}))]"
            ]
          },
          "metadata": {},
          "execution_count": 329
        }
      ]
    },
    {
      "cell_type": "markdown",
      "source": [
        "Building ML Models"
      ],
      "metadata": {
        "id": "kd-3A_Ac1fYX"
      }
    },
    {
      "cell_type": "code",
      "source": [
        "# Split the data into train and test sets\n",
        "train_data, test_data = scaled_df.randomSplit([.7,.3],seed=1234)"
      ],
      "metadata": {
        "id": "gvYmXfuc1bg0"
      },
      "execution_count": 330,
      "outputs": []
    },
    {
      "cell_type": "code",
      "source": [
        "train_data.show()"
      ],
      "metadata": {
        "colab": {
          "base_uri": "https://localhost:8080/"
        },
        "id": "3aqw1Uhg1sG8",
        "outputId": "cf513a79-5cd2-438e-f80b-4fc92f7174af"
      },
      "execution_count": 331,
      "outputs": [
        {
          "output_type": "stream",
          "name": "stdout",
          "text": [
            "+-------------+---------+---------------+------------+-------------+-------------------+------------------+-------------+-------------+--------------------+-------------------+--------------------+--------------------+\n",
            "|selling_price|km_driven|year_of_service|fuel_indexer|  fuel_Vector|seller_type_indexer|seller_type_vector|owner_indexer| owner_vector|transmission_indexer|transmission_vector|            features|     features_scaled|\n",
            "+-------------+---------+---------------+------------+-------------+-------------------+------------------+-------------+-------------+--------------------+-------------------+--------------------+--------------------+\n",
            "|        40000|    30000|             21|         1.0|(3,[1],[1.0])|                0.0|     (2,[0],[1.0])|          0.0|(4,[0],[1.0])|                 0.0|      (1,[0],[1.0])|(12,[0,1,3,5,7,11...|(12,[0,1,3,5,7,11...|\n",
            "|        40000|    40000|             24|         1.0|(3,[1],[1.0])|                0.0|     (2,[0],[1.0])|          3.0|(4,[3],[1.0])|                 0.0|      (1,[0],[1.0])|(12,[0,1,3,5,10,1...|(12,[0,1,3,5,10,1...|\n",
            "|        45000|     7000|              8|         1.0|(3,[1],[1.0])|                0.0|     (2,[0],[1.0])|          1.0|(4,[1],[1.0])|                 0.0|      (1,[0],[1.0])|(12,[0,1,3,5,8,11...|(12,[0,1,3,5,8,11...|\n",
            "|        45000|    72539|             21|         1.0|(3,[1],[1.0])|                0.0|     (2,[0],[1.0])|          1.0|(4,[1],[1.0])|                 0.0|      (1,[0],[1.0])|(12,[0,1,3,5,8,11...|(12,[0,1,3,5,8,11...|\n",
            "|        45000|   120000|             16|         0.0|(3,[0],[1.0])|                0.0|     (2,[0],[1.0])|          1.0|(4,[1],[1.0])|                 0.0|      (1,[0],[1.0])|(12,[0,1,2,5,8,11...|(12,[0,1,2,5,8,11...|\n",
            "|        50000|    35000|             24|         3.0|    (3,[],[])|                0.0|     (2,[0],[1.0])|          1.0|(4,[1],[1.0])|                 0.0|      (1,[0],[1.0])|(12,[0,1,5,8,11],...|(12,[0,1,5,8,11],...|\n",
            "|        50000|    60000|             22|         1.0|(3,[1],[1.0])|                0.0|     (2,[0],[1.0])|          0.0|(4,[0],[1.0])|                 0.0|      (1,[0],[1.0])|(12,[0,1,3,5,7,11...|(12,[0,1,3,5,7,11...|\n",
            "|        50000|    70000|             14|         1.0|(3,[1],[1.0])|                0.0|     (2,[0],[1.0])|          0.0|(4,[0],[1.0])|                 0.0|      (1,[0],[1.0])|(12,[0,1,3,5,7,11...|(12,[0,1,3,5,7,11...|\n",
            "|        50000|    88500|             22|         1.0|(3,[1],[1.0])|                0.0|     (2,[0],[1.0])|          3.0|(4,[3],[1.0])|                 0.0|      (1,[0],[1.0])|(12,[0,1,3,5,10,1...|(12,[0,1,3,5,10,1...|\n",
            "|        50000|   120000|             16|         0.0|(3,[0],[1.0])|                0.0|     (2,[0],[1.0])|          3.0|(4,[3],[1.0])|                 0.0|      (1,[0],[1.0])|(12,[0,1,2,5,10,1...|(12,[0,1,2,5,10,1...|\n",
            "|        50000|   120000|             19|         0.0|(3,[0],[1.0])|                0.0|     (2,[0],[1.0])|          1.0|(4,[1],[1.0])|                 0.0|      (1,[0],[1.0])|(12,[0,1,2,5,8,11...|(12,[0,1,2,5,8,11...|\n",
            "|        50000|   120000|             23|         1.0|(3,[1],[1.0])|                0.0|     (2,[0],[1.0])|          1.0|(4,[1],[1.0])|                 0.0|      (1,[0],[1.0])|(12,[0,1,3,5,8,11...|(12,[0,1,3,5,8,11...|\n",
            "|        52000|    50000|             21|         1.0|(3,[1],[1.0])|                0.0|     (2,[0],[1.0])|          2.0|(4,[2],[1.0])|                 0.0|      (1,[0],[1.0])|(12,[0,1,3,5,9,11...|(12,[0,1,3,5,9,11...|\n",
            "|        52000|    50000|             21|         1.0|(3,[1],[1.0])|                0.0|     (2,[0],[1.0])|          2.0|(4,[2],[1.0])|                 0.0|      (1,[0],[1.0])|(12,[0,1,3,5,9,11...|(12,[0,1,3,5,9,11...|\n",
            "|        52000|   120000|             16|         1.0|(3,[1],[1.0])|                0.0|     (2,[0],[1.0])|          2.0|(4,[2],[1.0])|                 0.0|      (1,[0],[1.0])|(12,[0,1,3,5,9,11...|(12,[0,1,3,5,9,11...|\n",
            "|        55000|    25000|              9|         1.0|(3,[1],[1.0])|                0.0|     (2,[0],[1.0])|          3.0|(4,[3],[1.0])|                 0.0|      (1,[0],[1.0])|(12,[0,1,3,5,10,1...|(12,[0,1,3,5,10,1...|\n",
            "|        55000|    35000|             19|         0.0|(3,[0],[1.0])|                0.0|     (2,[0],[1.0])|          1.0|(4,[1],[1.0])|                 0.0|      (1,[0],[1.0])|(12,[0,1,2,5,8,11...|(12,[0,1,2,5,8,11...|\n",
            "|        55000|    60000|             21|         1.0|(3,[1],[1.0])|                0.0|     (2,[0],[1.0])|          2.0|(4,[2],[1.0])|                 0.0|      (1,[0],[1.0])|(12,[0,1,3,5,9,11...|(12,[0,1,3,5,9,11...|\n",
            "|        55000|   100000|             16|         0.0|(3,[0],[1.0])|                0.0|     (2,[0],[1.0])|          1.0|(4,[1],[1.0])|                 0.0|      (1,[0],[1.0])|(12,[0,1,2,5,8,11...|(12,[0,1,2,5,8,11...|\n",
            "|        55000|   195000|             15|         0.0|(3,[0],[1.0])|                0.0|     (2,[0],[1.0])|          2.0|(4,[2],[1.0])|                 0.0|      (1,[0],[1.0])|(12,[0,1,2,5,9,11...|(12,[0,1,2,5,9,11...|\n",
            "+-------------+---------+---------------+------------+-------------+-------------------+------------------+-------------+-------------+--------------------+-------------------+--------------------+--------------------+\n",
            "only showing top 20 rows\n",
            "\n"
          ]
        }
      ]
    },
    {
      "cell_type": "code",
      "source": [
        "# Import `LinearRegression`\n",
        "from pyspark.ml.regression import LinearRegression"
      ],
      "metadata": {
        "id": "BmbX9Zad1NcR"
      },
      "execution_count": 332,
      "outputs": []
    },
    {
      "cell_type": "code",
      "source": [
        "# Initialize `lr`\n",
        "lr = LinearRegression(labelCol=\"selling_price\", maxIter=10, regParam=0.3, elasticNetParam=0.8)"
      ],
      "metadata": {
        "id": "E81qFyrf14d0"
      },
      "execution_count": 335,
      "outputs": []
    },
    {
      "cell_type": "code",
      "source": [
        "# Fit the data to the model\n",
        "linearModel = lr.fit(train_data)"
      ],
      "metadata": {
        "id": "C7uxbeSk1NYe"
      },
      "execution_count": 336,
      "outputs": []
    },
    {
      "cell_type": "code",
      "source": [
        "# Generate predictions\n",
        "predicted = linearModel.transform(test_data)\n",
        "predicted.show()"
      ],
      "metadata": {
        "colab": {
          "base_uri": "https://localhost:8080/"
        },
        "id": "jf6hmQml1NVV",
        "outputId": "2d66158a-adfd-4438-d18e-1ade2a306550"
      },
      "execution_count": 337,
      "outputs": [
        {
          "output_type": "stream",
          "name": "stdout",
          "text": [
            "+-------------+---------+---------------+------------+-------------+-------------------+------------------+-------------+-------------+--------------------+-------------------+--------------------+--------------------+-------------------+\n",
            "|selling_price|km_driven|year_of_service|fuel_indexer|  fuel_Vector|seller_type_indexer|seller_type_vector|owner_indexer| owner_vector|transmission_indexer|transmission_vector|            features|     features_scaled|         prediction|\n",
            "+-------------+---------+---------------+------------+-------------+-------------------+------------------+-------------+-------------+--------------------+-------------------+--------------------+--------------------+-------------------+\n",
            "|        35000|    35000|             10|         1.0|(3,[1],[1.0])|                0.0|     (2,[0],[1.0])|          2.0|(4,[2],[1.0])|                 0.0|      (1,[0],[1.0])|(12,[0,1,3,5,9,11...|(12,[0,1,3,5,9,11...| 205916.26957690832|\n",
            "|        40000|    19000|             11|         1.0|(3,[1],[1.0])|                0.0|     (2,[0],[1.0])|          0.0|(4,[0],[1.0])|                 0.0|      (1,[0],[1.0])|(12,[0,1,3,5,7,11...|(12,[0,1,3,5,7,11...| 223158.07804130507|\n",
            "|        43000|   100000|             21|         1.0|(3,[1],[1.0])|                0.0|     (2,[0],[1.0])|          1.0|(4,[1],[1.0])|                 0.0|      (1,[0],[1.0])|(12,[0,1,3,5,8,11...|(12,[0,1,3,5,8,11...|-225839.73116515414|\n",
            "|        55000|   100000|             16|         0.0|(3,[0],[1.0])|                0.0|     (2,[0],[1.0])|          0.0|(4,[0],[1.0])|                 0.0|      (1,[0],[1.0])|(12,[0,1,2,5,7,11...|(12,[0,1,2,5,7,11...| 274704.84692308516|\n",
            "|        57000|    80000|             16|         0.0|(3,[0],[1.0])|                0.0|     (2,[0],[1.0])|          1.0|(4,[1],[1.0])|                 0.0|      (1,[0],[1.0])|(12,[0,1,2,5,8,11...|(12,[0,1,2,5,8,11...| 259595.46125896298|\n",
            "|        58000|    27974|              9|         1.0|(3,[1],[1.0])|                0.0|     (2,[0],[1.0])|          0.0|(4,[0],[1.0])|                 0.0|      (1,[0],[1.0])|(12,[0,1,3,5,7,11...|(12,[0,1,3,5,7,11...| 287609.80549445865|\n",
            "|        60000|    35000|             19|         1.0|(3,[1],[1.0])|                0.0|     (2,[0],[1.0])|          0.0|(4,[0],[1.0])|                 0.0|      (1,[0],[1.0])|(12,[0,1,3,5,7,11...|(12,[0,1,3,5,7,11...| -74363.23081572447|\n",
            "|        60000|    35000|             23|         1.0|(3,[1],[1.0])|                0.0|     (2,[0],[1.0])|          1.0|(4,[1],[1.0])|                 0.0|      (1,[0],[1.0])|(12,[0,1,3,5,8,11...|(12,[0,1,3,5,8,11...| -247416.4986818505|\n",
            "|        60000|    40000|             11|         1.0|(3,[1],[1.0])|                0.0|     (2,[0],[1.0])|          0.0|(4,[0],[1.0])|                 0.0|      (1,[0],[1.0])|(12,[0,1,3,5,7,11...|(12,[0,1,3,5,7,11...|  207087.4294376995|\n",
            "|        60000|    50000|             20|         1.0|(3,[1],[1.0])|                0.0|     (2,[0],[1.0])|          0.0|(4,[0],[1.0])|                 0.0|      (1,[0],[1.0])|(12,[0,1,3,5,7,11...|(12,[0,1,3,5,7,11...|-121501.89117746637|\n",
            "|        60000|    50000|             22|         1.0|(3,[1],[1.0])|                0.0|     (2,[0],[1.0])|          0.0|(4,[0],[1.0])|                 0.0|      (1,[0],[1.0])|(12,[0,1,3,5,7,11...|(12,[0,1,3,5,7,11...|-192821.14246722707|\n",
            "|        60000|   120000|             16|         1.0|(3,[1],[1.0])|                0.0|     (2,[0],[1.0])|          2.0|(4,[2],[1.0])|                 0.0|      (1,[0],[1.0])|(12,[0,1,3,5,9,11...|(12,[0,1,3,5,9,11...| -73089.34768792125|\n",
            "|        68000|   120000|             13|         1.0|(3,[1],[1.0])|                0.0|     (2,[0],[1.0])|          1.0|(4,[1],[1.0])|                 0.0|      (1,[0],[1.0])|(12,[0,1,3,5,8,11...|(12,[0,1,3,5,8,11...| 44131.894371408736|\n",
            "|        69000|   100000|             14|         1.0|(3,[1],[1.0])|                0.0|     (2,[0],[1.0])|          0.0|(4,[0],[1.0])|                 0.0|      (1,[0],[1.0])|(12,[0,1,3,5,7,11...|(12,[0,1,3,5,7,11...|   54192.4136356134|\n",
            "|        70000|    80000|             17|         0.0|(3,[0],[1.0])|                0.0|     (2,[0],[1.0])|          0.0|(4,[0],[1.0])|                 0.0|      (1,[0],[1.0])|(12,[0,1,2,5,7,11...|(12,[0,1,2,5,7,11...|  254350.6009006861|\n",
            "|        70000|    90000|             19|         1.0|(3,[1],[1.0])|                0.0|     (2,[0],[1.0])|          1.0|(4,[1],[1.0])|                 0.0|      (1,[0],[1.0])|(12,[0,1,3,5,8,11...|(12,[0,1,3,5,8,11...| -146867.7900641521|\n",
            "|        70000|   110000|             16|         1.0|(3,[1],[1.0])|                0.0|     (2,[0],[1.0])|          2.0|(4,[2],[1.0])|                 0.0|      (1,[0],[1.0])|(12,[0,1,3,5,9,11...|(12,[0,1,3,5,9,11...|-65436.657876680605|\n",
            "|        70000|   120000|             17|         0.0|(3,[0],[1.0])|                0.0|     (2,[0],[1.0])|          0.0|(4,[0],[1.0])|                 0.0|      (1,[0],[1.0])|(12,[0,1,2,5,7,11...|(12,[0,1,2,5,7,11...| 223739.84165572305|\n",
            "|        75000|    29900|             10|         1.0|(3,[1],[1.0])|                0.0|     (2,[0],[1.0])|          0.0|(4,[0],[1.0])|                 0.0|      (1,[0],[1.0])|(12,[0,1,3,5,7,11...|(12,[0,1,3,5,7,11...| 250476.27179193334|\n",
            "|        75000|    35000|             10|         1.0|(3,[1],[1.0])|                0.0|     (2,[0],[1.0])|          1.0|(4,[1],[1.0])|                 0.0|      (1,[0],[1.0])|(12,[0,1,3,5,8,11...|(12,[0,1,3,5,8,11...|  216158.6347015968|\n",
            "+-------------+---------+---------------+------------+-------------+-------------------+------------------+-------------+-------------+--------------------+-------------------+--------------------+--------------------+-------------------+\n",
            "only showing top 20 rows\n",
            "\n"
          ]
        }
      ]
    },
    {
      "cell_type": "code",
      "source": [
        "# Coefficients for the model\n",
        "linearModel.coefficients"
      ],
      "metadata": {
        "colab": {
          "base_uri": "https://localhost:8080/"
        },
        "id": "2Ipo6d2v1NEd",
        "outputId": "3fb022df-1873-496d-bfde-14684fb50e6a"
      },
      "execution_count": 338,
      "outputs": [
        {
          "output_type": "execute_result",
          "data": {
            "text/plain": [
              "DenseVector([-0.7653, -35659.6256, 159592.4158, -132239.2687, -129875.545, -176054.7338, -119577.9946, 13465.6732, -16949.0921, -27191.4572, 5436.1468, -877696.5257])"
            ]
          },
          "metadata": {},
          "execution_count": 338
        }
      ]
    },
    {
      "cell_type": "code",
      "source": [
        "# Intercept for the model\n",
        "linearModel.intercept"
      ],
      "metadata": {
        "colab": {
          "base_uri": "https://localhost:8080/"
        },
        "id": "8y5shlip3HeM",
        "outputId": "7903ede2-ce60-4f00-f0cf-b4afe04c7e76"
      },
      "execution_count": 339,
      "outputs": [
        {
          "output_type": "execute_result",
          "data": {
            "text/plain": [
              "1802478.925845782"
            ]
          },
          "metadata": {},
          "execution_count": 339
        }
      ]
    },
    {
      "cell_type": "code",
      "source": [
        "# Get the RMSE\n",
        "linearModel.summary.rootMeanSquaredError"
      ],
      "metadata": {
        "colab": {
          "base_uri": "https://localhost:8080/"
        },
        "id": "yg9_o1_y3NiG",
        "outputId": "803daa40-05a4-4348-c852-f519568c3085"
      },
      "execution_count": 340,
      "outputs": [
        {
          "output_type": "execute_result",
          "data": {
            "text/plain": [
              "401906.50516186724"
            ]
          },
          "metadata": {},
          "execution_count": 340
        }
      ]
    },
    {
      "cell_type": "code",
      "source": [
        "# Get the R2\n",
        "linearModel.summary.r2"
      ],
      "metadata": {
        "colab": {
          "base_uri": "https://localhost:8080/"
        },
        "id": "l-3O5qBR1NBV",
        "outputId": "4acb14e4-a06b-4edc-a694-25db9ca9625d"
      },
      "execution_count": 344,
      "outputs": [
        {
          "output_type": "execute_result",
          "data": {
            "text/plain": [
              "0.4794838844239636"
            ]
          },
          "metadata": {},
          "execution_count": 344
        }
      ]
    },
    {
      "cell_type": "code",
      "source": [
        ""
      ],
      "metadata": {
        "id": "tkx9zpv1pbeK"
      },
      "execution_count": null,
      "outputs": []
    },
    {
      "cell_type": "markdown",
      "metadata": {
        "id": "eE1gjD5yNfrO"
      },
      "source": [
        "#Chronobooks <br>\n",
        "![alt text](https://1.bp.blogspot.com/-lTiYBkU2qbU/X1er__fvnkI/AAAAAAAAjtE/GhDR3OEGJr4NG43fZPodrQD5kbxtnKebgCLcBGAsYHQ/s600/Footer2020-600x200.png)<hr>\n",
        "Chronotantra and Chronoyantra are two science fiction novels that explore the collapse of human civilisation on Earth and then its rebirth and reincarnation both on Earth as well as on the distant worlds of Mars, Titan and Enceladus. But is it the human civilisation that is being reborn? Or is it some other sentience that is revealing itself. \n",
        "If you have an interest in AI and found this material useful, you may consider buying these novels, in paperback or kindle, from [http://bit.ly/chronobooks](http://bit.ly/chronobooks)"
      ]
    }
  ]
}